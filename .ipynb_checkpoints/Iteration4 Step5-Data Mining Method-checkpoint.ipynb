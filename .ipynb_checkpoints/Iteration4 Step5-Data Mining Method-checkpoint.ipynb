{
 "cells": [
  {
   "cell_type": "code",
   "execution_count": 81,
   "id": "13afb05d",
   "metadata": {},
   "outputs": [
    {
     "name": "stdout",
     "output_type": "stream",
     "text": [
      "5.1 Match and Discuss DM Methods\n"
     ]
    }
   ],
   "source": [
    "print(\"5.2 Select DM Methods\")"
   ]
  },
  {
   "cell_type": "code",
   "execution_count": 82,
   "id": "2465ecd8",
   "metadata": {},
   "outputs": [],
   "source": [
    "import findspark\n",
    "findspark.init('/home/ubuntu/spark-3.2.1-bin-hadoop2.7')\n",
    "import pyspark\n",
    "from pyspark.sql import SparkSession\n",
    "spark = SparkSession.builder.appName('infosys722_step2').getOrCreate()"
   ]
  },
  {
   "cell_type": "code",
   "execution_count": 83,
   "id": "907ec556",
   "metadata": {},
   "outputs": [
    {
     "name": "stdout",
     "output_type": "stream",
     "text": [
      "+---------+---------+----+---------------+---------------+-------------------+\n",
      "| Variable|  Country|Year|PercentageValue|Water_quality_T|Life_satisfaction_T|\n",
      "+---------+---------+----+---------------+---------------+-------------------+\n",
      "|TOTPUBSEW|Australia|2010|          92.79|     satisfying|              maybe|\n",
      "|TOTPUBSEW|Australia|2011|          93.84|     satisfying|              maybe|\n",
      "|TOTPUBSEW|Australia|2012|           94.1|     satisfying|              maybe|\n",
      "|TOTPUBSEW|Australia|2013|          94.08|     satisfying|              maybe|\n",
      "|TOTPUBSEW|Australia|2014|          92.57|     satisfying|              maybe|\n",
      "|TOTPUBSEW|Australia|2015|          92.38|     satisfying|              maybe|\n",
      "|TOTPUBSEW|Australia|2016|          92.48|     satisfying|              maybe|\n",
      "|TOTPUBSEW|Australia|2017|          92.69|     satisfying|              maybe|\n",
      "|TOTPUBSEW|Australia|2018|          92.64|     satisfying|              maybe|\n",
      "|TOTPUBSEW|Australia|2019|        92.8561|     satisfying|              maybe|\n",
      "|TOTPUBSEW|  Austria|2010|        93.8627|     satisfying|              maybe|\n",
      "|TOTPUBSEW|  Austria|2012|           94.5|     satisfying|              maybe|\n",
      "|TOTPUBSEW|  Austria|2014|        94.9676|     satisfying|              maybe|\n",
      "|TOTPUBSEW|  Austria|2016|           95.2|     satisfying|              maybe|\n",
      "|TOTPUBSEW|  Austria|2018|            100|     satisfying|              maybe|\n",
      "|TOTPUBSEW|  Austria|2019|            100|     satisfying|              maybe|\n",
      "|TOTPUBSEW|  Belgium|2010|           95.9|     satisfying|              maybe|\n",
      "|TOTPUBSEW|  Belgium|2011|           97.1|     satisfying|              maybe|\n",
      "|TOTPUBSEW|  Belgium|2012|         92.848|     satisfying|              maybe|\n",
      "|TOTPUBSEW|  Belgium|2013|        93.9048|     satisfying|              maybe|\n",
      "+---------+---------+----+---------------+---------------+-------------------+\n",
      "only showing top 20 rows\n",
      "\n"
     ]
    }
   ],
   "source": [
    "dataset = spark.read.load(\"./Waste Water Treatment - Transformated.csv\", format=\"csv\", header=\"true\")\n",
    "dataset.show()"
   ]
  },
  {
   "cell_type": "code",
   "execution_count": 85,
   "id": "a32612e3",
   "metadata": {},
   "outputs": [
    {
     "data": {
      "text/plain": [
       "['Variable',\n",
       " 'Country',\n",
       " 'Year',\n",
       " 'PercentageValue',\n",
       " 'Water_quality_T',\n",
       " 'Life_satisfaction_T']"
      ]
     },
     "execution_count": 85,
     "metadata": {},
     "output_type": "execute_result"
    }
   ],
   "source": [
    "from pyspark.ml.linalg import Vectors\n",
    "from pyspark.ml.feature import VectorAssembler\n",
    "\n",
    "dataset.columns"
   ]
  },
  {
   "cell_type": "code",
   "execution_count": 91,
   "id": "dd73eb25",
   "metadata": {},
   "outputs": [
    {
     "name": "stdout",
     "output_type": "stream",
     "text": [
      "root\n",
      " |-- Variable: string (nullable = true)\n",
      " |-- Country: string (nullable = true)\n",
      " |-- Year: integer (nullable = true)\n",
      " |-- PercentageValue: float (nullable = true)\n",
      " |-- Water_quality_T: string (nullable = true)\n",
      " |-- Life_satisfaction_T: string (nullable = true)\n",
      "\n"
     ]
    }
   ],
   "source": [
    "from pyspark.sql.types import IntegerType\n",
    "from pyspark.sql.types import FloatType\n",
    "dataset = dataset.withColumn(\"Year\", dataset[\"Year\"].cast(IntegerType()))\n",
    "dataset = dataset.withColumn(\"PercentageValue\", dataset[\"PercentageValue\"].cast(FloatType()))\n",
    "\n",
    "dataset.printSchema()"
   ]
  },
  {
   "cell_type": "code",
   "execution_count": 93,
   "id": "23a1dc8e",
   "metadata": {},
   "outputs": [],
   "source": [
    "assembler = VectorAssembler(\n",
    "  inputCols=['Year',\n",
    "             'PercentageValue'],\n",
    "              outputCol=\"features\")"
   ]
  },
  {
   "cell_type": "code",
   "execution_count": 100,
   "id": "f8ecb500",
   "metadata": {},
   "outputs": [
    {
     "name": "stdout",
     "output_type": "stream",
     "text": [
      "+---------+---------+----+---------------+---------------+-------------------+--------------------+\n",
      "| Variable|  Country|Year|PercentageValue|Water_quality_T|Life_satisfaction_T|            features|\n",
      "+---------+---------+----+---------------+---------------+-------------------+--------------------+\n",
      "|TOTPUBSEW|Australia|2010|          92.79|     satisfying|              maybe|[2010.0,92.790000...|\n",
      "|TOTPUBSEW|Australia|2011|          93.84|     satisfying|              maybe|[2011.0,93.839996...|\n",
      "|TOTPUBSEW|Australia|2012|           94.1|     satisfying|              maybe|[2012.0,94.099998...|\n",
      "|TOTPUBSEW|Australia|2013|          94.08|     satisfying|              maybe|[2013.0,94.080001...|\n",
      "|TOTPUBSEW|Australia|2014|          92.57|     satisfying|              maybe|[2014.0,92.569999...|\n",
      "|TOTPUBSEW|Australia|2015|          92.38|     satisfying|              maybe|[2015.0,92.379997...|\n",
      "|TOTPUBSEW|Australia|2016|          92.48|     satisfying|              maybe|[2016.0,92.480003...|\n",
      "|TOTPUBSEW|Australia|2017|          92.69|     satisfying|              maybe|[2017.0,92.690002...|\n",
      "|TOTPUBSEW|Australia|2018|          92.64|     satisfying|              maybe|[2018.0,92.639999...|\n",
      "|TOTPUBSEW|Australia|2019|        92.8561|     satisfying|              maybe|[2019.0,92.856101...|\n",
      "|TOTPUBSEW|  Austria|2010|        93.8627|     satisfying|              maybe|[2010.0,93.862701...|\n",
      "|TOTPUBSEW|  Austria|2012|           94.5|     satisfying|              maybe|       [2012.0,94.5]|\n",
      "|TOTPUBSEW|  Austria|2014|        94.9676|     satisfying|              maybe|[2014.0,94.967597...|\n",
      "|TOTPUBSEW|  Austria|2016|           95.2|     satisfying|              maybe|[2016.0,95.199996...|\n",
      "|TOTPUBSEW|  Austria|2018|          100.0|     satisfying|              maybe|      [2018.0,100.0]|\n",
      "|TOTPUBSEW|  Austria|2019|          100.0|     satisfying|              maybe|      [2019.0,100.0]|\n",
      "|TOTPUBSEW|  Belgium|2010|           95.9|     satisfying|              maybe|[2010.0,95.900001...|\n",
      "|TOTPUBSEW|  Belgium|2011|           97.1|     satisfying|              maybe|[2011.0,97.099998...|\n",
      "|TOTPUBSEW|  Belgium|2012|         92.848|     satisfying|              maybe|[2012.0,92.847999...|\n",
      "|TOTPUBSEW|  Belgium|2013|        93.9048|     satisfying|              maybe|[2013.0,93.904800...|\n",
      "+---------+---------+----+---------------+---------------+-------------------+--------------------+\n",
      "only showing top 20 rows\n",
      "\n"
     ]
    }
   ],
   "source": [
    "output = assembler.transform(dataset)\n",
    "output.show()"
   ]
  },
  {
   "cell_type": "code",
   "execution_count": 97,
   "id": "37d5b0dd",
   "metadata": {},
   "outputs": [],
   "source": [
    "from pyspark.ml.feature import StringIndexer\n",
    "\n",
    "indexer = StringIndexer(inputCol=\"Year\", outputCol=\"YearIndex\")\n",
    "output_fixed = indexer.fit(output).transform(output)"
   ]
  },
  {
   "cell_type": "code",
   "execution_count": 98,
   "id": "b935c83f",
   "metadata": {},
   "outputs": [],
   "source": [
    "final_data = output_fixed.select(\"features\",'YearIndex')"
   ]
  },
  {
   "cell_type": "code",
   "execution_count": 99,
   "id": "7eb655e7",
   "metadata": {},
   "outputs": [],
   "source": [
    "train_data,test_data = final_data.randomSplit([0.7,0.3])"
   ]
  },
  {
   "cell_type": "code",
   "execution_count": null,
   "id": "817dd253",
   "metadata": {},
   "outputs": [],
   "source": []
  },
  {
   "cell_type": "code",
   "execution_count": null,
   "id": "d8de8a68",
   "metadata": {},
   "outputs": [],
   "source": []
  }
 ],
 "metadata": {
  "kernelspec": {
   "display_name": "Python 3 (ipykernel)",
   "language": "python",
   "name": "python3"
  },
  "language_info": {
   "codemirror_mode": {
    "name": "ipython",
    "version": 3
   },
   "file_extension": ".py",
   "mimetype": "text/x-python",
   "name": "python",
   "nbconvert_exporter": "python",
   "pygments_lexer": "ipython3",
   "version": "3.10.4"
  }
 },
 "nbformat": 4,
 "nbformat_minor": 5
}

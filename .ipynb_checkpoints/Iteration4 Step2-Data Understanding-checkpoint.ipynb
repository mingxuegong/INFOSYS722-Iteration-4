{
 "cells": [
  {
   "cell_type": "code",
   "execution_count": 48,
   "id": "01713b6f",
   "metadata": {},
   "outputs": [
    {
     "name": "stdout",
     "output_type": "stream",
     "text": [
      "2.1 Collect initial data\n"
     ]
    }
   ],
   "source": [
    "print(\"2.1 Collect initial data\")"
   ]
  },
  {
   "cell_type": "code",
   "execution_count": 49,
   "id": "9c347b6c",
   "metadata": {},
   "outputs": [],
   "source": [
    "import findspark\n",
    "findspark.init('/home/ubuntu/spark-3.2.1-bin-hadoop2.7')\n",
    "import pyspark\n",
    "from pyspark.sql import SparkSession\n",
    "spark = SparkSession.builder.appName('infosys722_step2').getOrCreate()"
   ]
  },
  {
   "cell_type": "code",
   "execution_count": 50,
   "id": "b1f0a3a2",
   "metadata": {},
   "outputs": [],
   "source": [
    "dataset = spark.read.load(\"./Waste Water Treatment.csv\", format=\"csv\", header=\"true\")"
   ]
  },
  {
   "cell_type": "code",
   "execution_count": 51,
   "id": "031a7753",
   "metadata": {},
   "outputs": [
    {
     "name": "stdout",
     "output_type": "stream",
     "text": [
      "+---------+--------------------+---------+----+---------------+\n",
      "| Variable| VariableDescription|  Country|Year|PercentageValue|\n",
      "+---------+--------------------+---------+----+---------------+\n",
      "|TOTPUBSEW|Total public sewe...|Australia|2010|          92.79|\n",
      "|TOTPUBSEW|Total public sewe...|Australia|2011|          93.84|\n",
      "|TOTPUBSEW|Total public sewe...|Australia|2012|           94.1|\n",
      "|TOTPUBSEW|Total public sewe...|Australia|2013|          94.08|\n",
      "|TOTPUBSEW|Total public sewe...|Australia|2014|          92.57|\n",
      "|TOTPUBSEW|Total public sewe...|Australia|2015|          92.38|\n",
      "|TOTPUBSEW|Total public sewe...|Australia|2016|          92.48|\n",
      "|TOTPUBSEW|Total public sewe...|Australia|2017|          92.69|\n",
      "|TOTPUBSEW|Total public sewe...|Australia|2018|          92.64|\n",
      "|TOTPUBSEW|Total public sewe...|Australia|2019|        92.8561|\n",
      "|TOTPUBSEW|Total public sewe...|  Austria|1990|            100|\n",
      "|TOTPUBSEW|Total public sewe...|  Austria|2000|            100|\n",
      "|TOTPUBSEW|Total public sewe...|  Austria|2010|        93.8627|\n",
      "|TOTPUBSEW|Total public sewe...|  Austria|2012|           94.5|\n",
      "|TOTPUBSEW|Total public sewe...|  Austria|2014|        94.9676|\n",
      "|TOTPUBSEW|Total public sewe...|  Austria|2016|           95.2|\n",
      "|TOTPUBSEW|Total public sewe...|  Austria|2018|            100|\n",
      "|TOTPUBSEW|Total public sewe...|  Austria|2019|            100|\n",
      "|TOTPUBSEW|Total public sewe...|  Belgium|2000|             65|\n",
      "|TOTPUBSEW|Total public sewe...|  Belgium|2005|             74|\n",
      "+---------+--------------------+---------+----+---------------+\n",
      "only showing top 20 rows\n",
      "\n"
     ]
    }
   ],
   "source": [
    "dataset.show()"
   ]
  },
  {
   "cell_type": "code",
   "execution_count": 52,
   "id": "4fb9e3ab",
   "metadata": {},
   "outputs": [
    {
     "name": "stdout",
     "output_type": "stream",
     "text": [
      "2.2 Describe the data\n"
     ]
    }
   ],
   "source": [
    "print(\"2.2 Describe the data\")"
   ]
  },
  {
   "cell_type": "code",
   "execution_count": 53,
   "id": "261a1ecf",
   "metadata": {},
   "outputs": [
    {
     "data": {
      "text/plain": [
       "['Variable', 'VariableDescription', 'Country', 'Year', 'PercentageValue']"
      ]
     },
     "execution_count": 53,
     "metadata": {},
     "output_type": "execute_result"
    }
   ],
   "source": [
    "dataset.columns"
   ]
  },
  {
   "cell_type": "code",
   "execution_count": 54,
   "id": "969f8ca3",
   "metadata": {},
   "outputs": [
    {
     "name": "stdout",
     "output_type": "stream",
     "text": [
      "2.3 Explore the data\n"
     ]
    }
   ],
   "source": [
    "print(\"2.3 Explore the data\")"
   ]
  },
  {
   "cell_type": "code",
   "execution_count": 55,
   "id": "cf3cd03c",
   "metadata": {},
   "outputs": [
    {
     "name": "stdout",
     "output_type": "stream",
     "text": [
      "+-------+--------+--------------------+-------------+------------------+------------------+\n",
      "|summary|Variable| VariableDescription|      Country|              Year|   PercentageValue|\n",
      "+-------+--------+--------------------+-------------+------------------+------------------+\n",
      "|  count|    3048|                3048|         3048|              3048|              3048|\n",
      "|   mean|    null|                null|         null|2009.7050524934384|37.090981856955295|\n",
      "| stddev|    null|                null|         null|10.034202130856608| 37.56203408072562|\n",
      "|    min|INDEPDTR|Connected to a wa...|    Australia|              1970|           -0.0001|\n",
      "|    max|   TOTTR|Unspecified (othe...|United States|              2019|             99.99|\n",
      "+-------+--------+--------------------+-------------+------------------+------------------+\n",
      "\n"
     ]
    }
   ],
   "source": [
    "dataset.describe().show()"
   ]
  },
  {
   "cell_type": "code",
   "execution_count": 56,
   "id": "d8054a08",
   "metadata": {
    "scrolled": true
   },
   "outputs": [
    {
     "name": "stdout",
     "output_type": "stream",
     "text": [
      "root\n",
      " |-- Variable: string (nullable = true)\n",
      " |-- VariableDescription: string (nullable = true)\n",
      " |-- Country: string (nullable = true)\n",
      " |-- Year: string (nullable = true)\n",
      " |-- PercentageValue: string (nullable = true)\n",
      "\n"
     ]
    }
   ],
   "source": [
    "dataset.printSchema()"
   ]
  },
  {
   "cell_type": "code",
   "execution_count": 57,
   "id": "e6ea8a59",
   "metadata": {},
   "outputs": [
    {
     "data": {
      "text/plain": [
       "3048"
      ]
     },
     "execution_count": 57,
     "metadata": {},
     "output_type": "execute_result"
    }
   ],
   "source": [
    "dataset.count()"
   ]
  },
  {
   "cell_type": "code",
   "execution_count": 58,
   "id": "6a80e874",
   "metadata": {},
   "outputs": [
    {
     "data": {
      "text/plain": [
       "3048"
      ]
     },
     "execution_count": 58,
     "metadata": {},
     "output_type": "execute_result"
    }
   ],
   "source": [
    "dataset.na.drop().count()"
   ]
  },
  {
   "cell_type": "code",
   "execution_count": null,
   "id": "ceedcf36",
   "metadata": {},
   "outputs": [],
   "source": []
  }
 ],
 "metadata": {
  "kernelspec": {
   "display_name": "Python 3 (ipykernel)",
   "language": "python",
   "name": "python3"
  },
  "language_info": {
   "codemirror_mode": {
    "name": "ipython",
    "version": 3
   },
   "file_extension": ".py",
   "mimetype": "text/x-python",
   "name": "python",
   "nbconvert_exporter": "python",
   "pygments_lexer": "ipython3",
   "version": "3.10.4"
  }
 },
 "nbformat": 4,
 "nbformat_minor": 5
}

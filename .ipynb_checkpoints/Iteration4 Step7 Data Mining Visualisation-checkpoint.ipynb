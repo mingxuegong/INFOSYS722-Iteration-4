{
 "cells": [
  {
   "cell_type": "code",
   "execution_count": 1,
   "id": "12502437",
   "metadata": {},
   "outputs": [
    {
     "name": "stdout",
     "output_type": "stream",
     "text": [
      "7.2 Conduct Data Mining\n"
     ]
    }
   ],
   "source": [
    "print(\"7.2 Conduct Data Mining\")"
   ]
  },
  {
   "cell_type": "code",
   "execution_count": 2,
   "id": "43c61933",
   "metadata": {},
   "outputs": [
    {
     "name": "stderr",
     "output_type": "stream",
     "text": [
      "WARNING: An illegal reflective access operation has occurred\n",
      "WARNING: Illegal reflective access by org.apache.spark.unsafe.Platform (file:/home/ubuntu/spark-3.2.1-bin-hadoop2.7/jars/spark-unsafe_2.12-3.2.1.jar) to constructor java.nio.DirectByteBuffer(long,int)\n",
      "WARNING: Please consider reporting this to the maintainers of org.apache.spark.unsafe.Platform\n",
      "WARNING: Use --illegal-access=warn to enable warnings of further illegal reflective access operations\n",
      "WARNING: All illegal access operations will be denied in a future release\n",
      "Using Spark's default log4j profile: org/apache/spark/log4j-defaults.properties\n",
      "Setting default log level to \"WARN\".\n",
      "To adjust logging level use sc.setLogLevel(newLevel). For SparkR, use setLogLevel(newLevel).\n",
      "22/10/13 11:49:46 WARN NativeCodeLoader: Unable to load native-hadoop library for your platform... using builtin-java classes where applicable\n"
     ]
    }
   ],
   "source": [
    "import findspark\n",
    "findspark.init('/home/ubuntu/spark-3.2.1-bin-hadoop2.7')\n",
    "import pyspark\n",
    "from pyspark.sql import SparkSession\n",
    "spark = SparkSession.builder.appName('infosys722_step2').getOrCreate()"
   ]
  },
  {
   "cell_type": "code",
   "execution_count": 3,
   "id": "88e7d057",
   "metadata": {},
   "outputs": [
    {
     "name": "stdout",
     "output_type": "stream",
     "text": [
      "+---------+---------+----+---------------+---------------+-------------------+\n",
      "| Variable|  Country|Year|PercentageValue|Water_quality_T|Life_satisfaction_T|\n",
      "+---------+---------+----+---------------+---------------+-------------------+\n",
      "|TOTPUBSEW|Australia|2010|          92.79|     satisfying|              maybe|\n",
      "|TOTPUBSEW|Australia|2011|          93.84|     satisfying|              maybe|\n",
      "|TOTPUBSEW|Australia|2012|           94.1|     satisfying|              maybe|\n",
      "|TOTPUBSEW|Australia|2013|          94.08|     satisfying|              maybe|\n",
      "|TOTPUBSEW|Australia|2014|          92.57|     satisfying|              maybe|\n",
      "|TOTPUBSEW|Australia|2015|          92.38|     satisfying|              maybe|\n",
      "|TOTPUBSEW|Australia|2016|          92.48|     satisfying|              maybe|\n",
      "|TOTPUBSEW|Australia|2017|          92.69|     satisfying|              maybe|\n",
      "|TOTPUBSEW|Australia|2018|          92.64|     satisfying|              maybe|\n",
      "|TOTPUBSEW|Australia|2019|        92.8561|     satisfying|              maybe|\n",
      "|TOTPUBSEW|  Austria|2010|        93.8627|     satisfying|              maybe|\n",
      "|TOTPUBSEW|  Austria|2012|           94.5|     satisfying|              maybe|\n",
      "|TOTPUBSEW|  Austria|2014|        94.9676|     satisfying|              maybe|\n",
      "|TOTPUBSEW|  Austria|2016|           95.2|     satisfying|              maybe|\n",
      "|TOTPUBSEW|  Austria|2018|            100|     satisfying|              maybe|\n",
      "|TOTPUBSEW|  Austria|2019|            100|     satisfying|              maybe|\n",
      "|TOTPUBSEW|  Belgium|2010|           95.9|     satisfying|              maybe|\n",
      "|TOTPUBSEW|  Belgium|2011|           97.1|     satisfying|              maybe|\n",
      "|TOTPUBSEW|  Belgium|2012|         92.848|     satisfying|              maybe|\n",
      "|TOTPUBSEW|  Belgium|2013|        93.9048|     satisfying|              maybe|\n",
      "+---------+---------+----+---------------+---------------+-------------------+\n",
      "only showing top 20 rows\n",
      "\n"
     ]
    }
   ],
   "source": [
    "dataset = spark.read.load(\"./Waste Water Treatment - Transformated.csv\", format=\"csv\", header=\"true\")\n",
    "dataset.show()"
   ]
  },
  {
   "cell_type": "code",
   "execution_count": 4,
   "id": "7375f307",
   "metadata": {
    "scrolled": true
   },
   "outputs": [
    {
     "name": "stdout",
     "output_type": "stream",
     "text": [
      "+-----------+-----+\n",
      "|   Variable|count|\n",
      "+-----------+-----+\n",
      "|   INDEPDTR|  181|\n",
      "|   PUBADVTR|  251|\n",
      "|   PUBBIOTR|  251|\n",
      "|    OTHERTR|  256|\n",
      "|   PUBTOTTR|  280|\n",
      "|    PUBNOTR|  221|\n",
      "|  TOTPUBSEW|  242|\n",
      "|NOPUBSEWIND|  235|\n",
      "|      TOTTR|  183|\n",
      "|   PUBMECTR|  250|\n",
      "+-----------+-----+\n",
      "\n"
     ]
    }
   ],
   "source": [
    "import pandas as pd\n",
    "import numpy as np\n",
    "import matplotlib.pyplot as plt\n",
    "%matplotlib inline\n",
    "\n",
    "variableArr = np.array(dataset.select('Variable').collect())\n",
    "dataset2 = dataset.groupBy('Variable').count()\n",
    "dataset2.show()"
   ]
  },
  {
   "cell_type": "code",
   "execution_count": 10,
   "id": "4c77f539",
   "metadata": {},
   "outputs": [
    {
     "name": "stdout",
     "output_type": "stream",
     "text": [
      "[181, 251, 251, 256, 280, 221, 242, 235, 183, 250]\n",
      "['INDEPDTR', 'PUBADVTR', 'PUBBIOTR', 'OTHERTR', 'PUBTOTTR', 'PUBNOTR', 'TOTPUBSEW', 'NOPUBSEWIND', 'TOTTR', 'PUBMECTR']\n"
     ]
    }
   ],
   "source": [
    "count1 = dataset2.collect()[0]['count']\n",
    "count2 = dataset2.collect()[1]['count']\n",
    "count3 = dataset2.collect()[2]['count']\n",
    "count4 = dataset2.collect()[3]['count']\n",
    "count5 = dataset2.collect()[4]['count']\n",
    "count6 = dataset2.collect()[5]['count']\n",
    "count7 = dataset2.collect()[6]['count']\n",
    "count8 = dataset2.collect()[7]['count']\n",
    "count9 = dataset2.collect()[8]['count']\n",
    "count10 = dataset2.collect()[9]['count']\n",
    "\n",
    "var1 = dataset2.collect()[0]['Variable']\n",
    "var2 = dataset2.collect()[1]['Variable']\n",
    "var3 = dataset2.collect()[2]['Variable']\n",
    "var4 = dataset2.collect()[3]['Variable']\n",
    "var5 = dataset2.collect()[4]['Variable']\n",
    "var6 = dataset2.collect()[5]['Variable']\n",
    "var7 = dataset2.collect()[6]['Variable']\n",
    "var8 = dataset2.collect()[7]['Variable']\n",
    "var9 = dataset2.collect()[8]['Variable']\n",
    "var10 = dataset2.collect()[9]['Variable']\n",
    "\n",
    "import array\n",
    "arr1 = []\n",
    "arr1.append(count1)\n",
    "arr1.append(count2)\n",
    "arr1.append(count3)\n",
    "arr1.append(count4)\n",
    "arr1.append(count5)\n",
    "arr1.append(count6)\n",
    "arr1.append(count7)\n",
    "arr1.append(count8)\n",
    "arr1.append(count9)\n",
    "arr1.append(count10)\n",
    "print(arr1)\n",
    "\n",
    "arr2 = []\n",
    "arr2.append(var1)\n",
    "arr2.append(var2)\n",
    "arr2.append(var3)\n",
    "arr2.append(var4)\n",
    "arr2.append(var5)\n",
    "arr2.append(var6)\n",
    "arr2.append(var7)\n",
    "arr2.append(var8)\n",
    "arr2.append(var9)\n",
    "arr2.append(var10)\n",
    "print(arr2)"
   ]
  },
  {
   "cell_type": "code",
   "execution_count": 11,
   "id": "4917811d",
   "metadata": {},
   "outputs": [
    {
     "data": {
      "image/png": "[encoded data removed]",
      "text/plain": [
       "<Figure size 432x288 with 1 Axes>"
      ]
     },
     "metadata": {
      "needs_background": "light"
     },
     "output_type": "display_data"
    }
   ],
   "source": [
    "fig, ax = plt.subplots()\n",
    "bar_colors = ['tab:blue','tab:orange','tab:red','tab:cyan','tab:green','tab:olive','tab:purple','tab:pink','tab:brown','tab:gray']\n",
    "ax.bar(arr2, arr1, color=bar_colors)\n",
    "ax.set_ylabel('Count of Variables')\n",
    "ax.set_title('Count and Distribution of Variables')\n",
    "fig.autofmt_xdate()\n",
    "plt.show()"
   ]
  },
  {
   "cell_type": "code",
   "execution_count": 6,
   "id": "fd654216",
   "metadata": {},
   "outputs": [
    {
     "name": "stdout",
     "output_type": "stream",
     "text": [
      "+-------------+-----+\n",
      "|      Country|count|\n",
      "+-------------+-----+\n",
      "|       Sweden|   80|\n",
      "|       Turkey|   72|\n",
      "|      Germany|   70|\n",
      "|       France|   90|\n",
      "|       Greece|   76|\n",
      "|      Belgium|   97|\n",
      "|      Finland|   67|\n",
      "|United States|    8|\n",
      "|        Chile|   64|\n",
      "|        Italy|   10|\n",
      "|    Lithuania|   78|\n",
      "|       Norway|   97|\n",
      "|        Spain|   50|\n",
      "|      Denmark|   87|\n",
      "|      Ireland|   70|\n",
      "|       Israel|   99|\n",
      "|      Iceland|    5|\n",
      "|       Mexico|   14|\n",
      "|      Estonia|   90|\n",
      "|  Switzerland|   21|\n",
      "+-------------+-----+\n",
      "only showing top 20 rows\n",
      "\n"
     ]
    }
   ],
   "source": [
    "dataset3 = dataset.groupBy('Country').count()\n",
    "dataset3.show()"
   ]
  },
  {
   "cell_type": "code",
   "execution_count": 7,
   "id": "c52dc9e0",
   "metadata": {},
   "outputs": [
    {
     "name": "stdout",
     "output_type": "stream",
     "text": [
      "[80, 72, 70, 90, 76, 97, 67, 8, 64, 10, 78, 97, 50, 87, 70, 99, 5, 14, 90, 21]\n",
      "['Sweden', 'Turkey', 'Germany', 'France', 'Greece', 'Belgium', 'Finland', 'United States', 'Chile', 'Italy', 'Lithuania', 'Norway', 'Spain', 'Denmark', 'Ireland', 'Israel', 'Iceland', 'Mexico', 'Estonia', 'Switzerland']\n"
     ]
    }
   ],
   "source": [
    "count1_country = dataset3.collect()[0]['count']\n",
    "count2_country = dataset3.collect()[1]['count']\n",
    "count3_country = dataset3.collect()[2]['count']\n",
    "count4_country = dataset3.collect()[3]['count']\n",
    "count5_country = dataset3.collect()[4]['count']\n",
    "count6_country = dataset3.collect()[5]['count']\n",
    "count7_country = dataset3.collect()[6]['count']\n",
    "count8_country = dataset3.collect()[7]['count']\n",
    "count9_country = dataset3.collect()[8]['count']\n",
    "count10_country = dataset3.collect()[9]['count']\n",
    "count11_country = dataset3.collect()[10]['count']\n",
    "count12_country = dataset3.collect()[11]['count']\n",
    "count13_country = dataset3.collect()[12]['count']\n",
    "count14_country = dataset3.collect()[13]['count']\n",
    "count15_country = dataset3.collect()[14]['count']\n",
    "count16_country = dataset3.collect()[15]['count']\n",
    "count17_country = dataset3.collect()[16]['count']\n",
    "count18_country = dataset3.collect()[17]['count']\n",
    "count19_country = dataset3.collect()[18]['count']\n",
    "count20_country = dataset3.collect()[19]['count']\n",
    "\n",
    "country1 = dataset3.collect()[0]['Country']\n",
    "country2 = dataset3.collect()[1]['Country']\n",
    "country3 = dataset3.collect()[2]['Country']\n",
    "country4 = dataset3.collect()[3]['Country']\n",
    "country5 = dataset3.collect()[4]['Country']\n",
    "country6 = dataset3.collect()[5]['Country']\n",
    "country7 = dataset3.collect()[6]['Country']\n",
    "country8 = dataset3.collect()[7]['Country']\n",
    "country9 = dataset3.collect()[8]['Country']\n",
    "country10 = dataset3.collect()[9]['Country']\n",
    "country11 = dataset3.collect()[10]['Country']\n",
    "country12 = dataset3.collect()[11]['Country']\n",
    "country13 = dataset3.collect()[12]['Country']\n",
    "country14 = dataset3.collect()[13]['Country']\n",
    "country15 = dataset3.collect()[14]['Country']\n",
    "country16 = dataset3.collect()[15]['Country']\n",
    "country17 = dataset3.collect()[16]['Country']\n",
    "country18 = dataset3.collect()[17]['Country']\n",
    "country19 = dataset3.collect()[18]['Country']\n",
    "country20 = dataset3.collect()[19]['Country']\n",
    "\n",
    "arr3 = []\n",
    "arr3.append(count1_country)\n",
    "arr3.append(count2_country)\n",
    "arr3.append(count3_country)\n",
    "arr3.append(count4_country)\n",
    "arr3.append(count5_country)\n",
    "arr3.append(count6_country)\n",
    "arr3.append(count7_country)\n",
    "arr3.append(count8_country)\n",
    "arr3.append(count9_country)\n",
    "arr3.append(count10_country)\n",
    "arr3.append(count11_country)\n",
    "arr3.append(count12_country)\n",
    "arr3.append(count13_country)\n",
    "arr3.append(count14_country)\n",
    "arr3.append(count15_country)\n",
    "arr3.append(count16_country)\n",
    "arr3.append(count17_country)\n",
    "arr3.append(count18_country)\n",
    "arr3.append(count19_country)\n",
    "arr3.append(count20_country)\n",
    "print(arr3)\n",
    "\n",
    "arr4 = []\n",
    "arr4.append(country1)\n",
    "arr4.append(country2)\n",
    "arr4.append(country3)\n",
    "arr4.append(country4)\n",
    "arr4.append(country5)\n",
    "arr4.append(country6)\n",
    "arr4.append(country7)\n",
    "arr4.append(country8)\n",
    "arr4.append(country9)\n",
    "arr4.append(country10)\n",
    "arr4.append(country11)\n",
    "arr4.append(country12)\n",
    "arr4.append(country13)\n",
    "arr4.append(country14)\n",
    "arr4.append(country15)\n",
    "arr4.append(country16)\n",
    "arr4.append(country17)\n",
    "arr4.append(country18)\n",
    "arr4.append(country19)\n",
    "arr4.append(country20)\n",
    "print(arr4)"
   ]
  },
  {
   "cell_type": "code",
   "execution_count": 8,
   "id": "1899ad1a",
   "metadata": {},
   "outputs": [
    {
     "data": {
      "image/png": "[encoded data removed]",
      "text/plain": [
       "<Figure size 432x288 with 1 Axes>"
      ]
     },
     "metadata": {
      "needs_background": "light"
     },
     "output_type": "display_data"
    }
   ],
   "source": [
    "fig, ax = plt.subplots()\n",
    "ax.plot(arr3, arr4)\n",
    "fig.suptitle('Categorical Plotting for Country')\n",
    "plt.show()"
   ]
  },
  {
   "cell_type": "code",
   "execution_count": null,
   "id": "70db94cd",
   "metadata": {},
   "outputs": [],
   "source": []
  }
 ],
 "metadata": {
  "kernelspec": {
   "display_name": "Python 3 (ipykernel)",
   "language": "python",
   "name": "python3"
  },
  "language_info": {
   "codemirror_mode": {
    "name": "ipython",
    "version": 3
   },
   "file_extension": ".py",
   "mimetype": "text/x-python",
   "name": "python",
   "nbconvert_exporter": "python",
   "pygments_lexer": "ipython3",
   "version": "3.10.4"
  }
 },
 "nbformat": 4,
 "nbformat_minor": 5
}

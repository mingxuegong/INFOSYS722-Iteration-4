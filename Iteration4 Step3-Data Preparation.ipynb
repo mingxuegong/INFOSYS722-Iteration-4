{
 "cells": [
  {
   "cell_type": "code",
   "execution_count": 1,
   "id": "c140f651",
   "metadata": {},
   "outputs": [
    {
     "name": "stdout",
     "output_type": "stream",
     "text": [
      "3.1 Data Selection\n"
     ]
    }
   ],
   "source": [
    "print(\"3.1 Data Selection\")"
   ]
  },
  {
   "cell_type": "code",
   "execution_count": 2,
   "id": "277d6b45",
   "metadata": {},
   "outputs": [
    {
     "name": "stderr",
     "output_type": "stream",
     "text": [
      "WARNING: An illegal reflective access operation has occurred\n",
      "WARNING: Illegal reflective access by org.apache.spark.unsafe.Platform (file:/home/ubuntu/spark-3.2.1-bin-hadoop2.7/jars/spark-unsafe_2.12-3.2.1.jar) to constructor java.nio.DirectByteBuffer(long,int)\n",
      "WARNING: Please consider reporting this to the maintainers of org.apache.spark.unsafe.Platform\n",
      "WARNING: Use --illegal-access=warn to enable warnings of further illegal reflective access operations\n",
      "WARNING: All illegal access operations will be denied in a future release\n",
      "Using Spark's default log4j profile: org/apache/spark/log4j-defaults.properties\n",
      "Setting default log level to \"WARN\".\n",
      "To adjust logging level use sc.setLogLevel(newLevel). For SparkR, use setLogLevel(newLevel).\n",
      "22/10/10 09:44:14 WARN NativeCodeLoader: Unable to load native-hadoop library for your platform... using builtin-java classes where applicable\n",
      "22/10/10 09:44:16 WARN Utils: Service 'SparkUI' could not bind on port 4040. Attempting port 4041.\n"
     ]
    }
   ],
   "source": [
    "import findspark\n",
    "findspark.init('/home/ubuntu/spark-3.2.1-bin-hadoop2.7')\n",
    "import pyspark\n",
    "from pyspark.sql import SparkSession\n",
    "spark = SparkSession.builder.appName('infosys722_step2').getOrCreate()"
   ]
  },
  {
   "cell_type": "code",
   "execution_count": 3,
   "id": "cc033c85",
   "metadata": {},
   "outputs": [],
   "source": [
    "dataset = spark.read.load(\"./Waste Water Treatment.csv\", format=\"csv\", header=\"true\")"
   ]
  },
  {
   "cell_type": "code",
   "execution_count": 4,
   "id": "ec087ffd",
   "metadata": {},
   "outputs": [
    {
     "name": "stdout",
     "output_type": "stream",
     "text": [
      "+---------+--------------------+---------+----+---------------+\n",
      "| Variable| VariableDescription|  Country|Year|PercentageValue|\n",
      "+---------+--------------------+---------+----+---------------+\n",
      "|TOTPUBSEW|Total public sewe...|Australia|2010|          92.79|\n",
      "|TOTPUBSEW|Total public sewe...|Australia|2011|          93.84|\n",
      "|TOTPUBSEW|Total public sewe...|Australia|2012|           94.1|\n",
      "|TOTPUBSEW|Total public sewe...|Australia|2013|          94.08|\n",
      "|TOTPUBSEW|Total public sewe...|Australia|2014|          92.57|\n",
      "|TOTPUBSEW|Total public sewe...|Australia|2015|          92.38|\n",
      "|TOTPUBSEW|Total public sewe...|Australia|2016|          92.48|\n",
      "|TOTPUBSEW|Total public sewe...|Australia|2017|          92.69|\n",
      "|TOTPUBSEW|Total public sewe...|Australia|2018|          92.64|\n",
      "|TOTPUBSEW|Total public sewe...|Australia|2019|        92.8561|\n",
      "|TOTPUBSEW|Total public sewe...|  Austria|2010|        93.8627|\n",
      "|TOTPUBSEW|Total public sewe...|  Austria|2012|           94.5|\n",
      "|TOTPUBSEW|Total public sewe...|  Austria|2014|        94.9676|\n",
      "|TOTPUBSEW|Total public sewe...|  Austria|2016|           95.2|\n",
      "|TOTPUBSEW|Total public sewe...|  Austria|2018|            100|\n",
      "|TOTPUBSEW|Total public sewe...|  Austria|2019|            100|\n",
      "|TOTPUBSEW|Total public sewe...|  Belgium|2010|           95.9|\n",
      "|TOTPUBSEW|Total public sewe...|  Belgium|2011|           97.1|\n",
      "|TOTPUBSEW|Total public sewe...|  Belgium|2012|         92.848|\n",
      "|TOTPUBSEW|Total public sewe...|  Belgium|2013|        93.9048|\n",
      "+---------+--------------------+---------+----+---------------+\n",
      "only showing top 20 rows\n",
      "\n"
     ]
    }
   ],
   "source": [
    "dataset = dataset.filter(dataset.Year >= 2010)\n",
    "dataset.show()"
   ]
  },
  {
   "cell_type": "code",
   "execution_count": 5,
   "id": "f2862725",
   "metadata": {},
   "outputs": [
    {
     "data": {
      "text/plain": [
       "2353"
      ]
     },
     "execution_count": 5,
     "metadata": {},
     "output_type": "execute_result"
    }
   ],
   "source": [
    "dataset.count()"
   ]
  },
  {
   "cell_type": "code",
   "execution_count": 10,
   "id": "accc330a",
   "metadata": {},
   "outputs": [
    {
     "name": "stdout",
     "output_type": "stream",
     "text": [
      "3.2 Data Clean up\n"
     ]
    }
   ],
   "source": [
    "print(\"3.2 Data Clean up\")"
   ]
  },
  {
   "cell_type": "code",
   "execution_count": 7,
   "id": "29b3bed3",
   "metadata": {},
   "outputs": [
    {
     "name": "stdout",
     "output_type": "stream",
     "text": [
      "+--------+--------------------+---------+----+---------------+\n",
      "|Variable| VariableDescription|  Country|Year|PercentageValue|\n",
      "+--------+--------------------+---------+----+---------------+\n",
      "|   TOTTR|Total treatment (...|Australia|2019|            100|\n",
      "|   TOTTR|Total treatment (...|Australia|2018|            100|\n",
      "|   TOTTR|Total treatment (...|Australia|2017|            100|\n",
      "|   TOTTR|Total treatment (...|Australia|2016|            100|\n",
      "|   TOTTR|Total treatment (...|Australia|2015|            100|\n",
      "|   TOTTR|Total treatment (...|Australia|2014|            100|\n",
      "|   TOTTR|Total treatment (...|Australia|2013|            100|\n",
      "|   TOTTR|Total treatment (...|Australia|2012|            100|\n",
      "|   TOTTR|Total treatment (...|Australia|2011|            100|\n",
      "|   TOTTR|Total treatment (...|Australia|2010|            100|\n",
      "| OTHERTR|Unspecified (othe...|Australia|2018|         0.0008|\n",
      "| OTHERTR|Unspecified (othe...|Australia|2017|        -0.0047|\n",
      "| OTHERTR|Unspecified (othe...|Australia|2016|        -0.0022|\n",
      "| OTHERTR|Unspecified (othe...|Australia|2015|        -0.0028|\n",
      "| OTHERTR|Unspecified (othe...|Australia|2014|         0.0005|\n",
      "| OTHERTR|Unspecified (othe...|Australia|2013|        -0.0025|\n",
      "| OTHERTR|Unspecified (othe...|Australia|2012|         0.0028|\n",
      "| OTHERTR|Unspecified (othe...|Australia|2011|        -0.0025|\n",
      "| OTHERTR|Unspecified (othe...|Australia|2010|         0.0045|\n",
      "| PUBNOTR|Connected to a wa...|Australia|2019|              0|\n",
      "+--------+--------------------+---------+----+---------------+\n",
      "only showing top 20 rows\n",
      "\n"
     ]
    }
   ],
   "source": [
    "from pyspark.sql.functions import monotonically_increasing_id\n",
    "from pyspark.sql.functions import desc\n",
    " \n",
    "dataset_negativePer = dataset.withColumn(\"index\", monotonically_increasing_id())\n",
    "dataset_negativePer.orderBy(desc(\"index\")).drop(\"index\").show(20)"
   ]
  },
  {
   "cell_type": "code",
   "execution_count": 8,
   "id": "1a458212",
   "metadata": {},
   "outputs": [
    {
     "name": "stdout",
     "output_type": "stream",
     "text": [
      "+---------+--------------------+---------+----+---------------+\n",
      "| Variable| VariableDescription|  Country|Year|PercentageValue|\n",
      "+---------+--------------------+---------+----+---------------+\n",
      "|TOTPUBSEW|Total public sewe...|Australia|2010|          92.79|\n",
      "|TOTPUBSEW|Total public sewe...|Australia|2011|          93.84|\n",
      "|TOTPUBSEW|Total public sewe...|Australia|2012|           94.1|\n",
      "|TOTPUBSEW|Total public sewe...|Australia|2013|          94.08|\n",
      "|TOTPUBSEW|Total public sewe...|Australia|2014|          92.57|\n",
      "|TOTPUBSEW|Total public sewe...|Australia|2015|          92.38|\n",
      "|TOTPUBSEW|Total public sewe...|Australia|2016|          92.48|\n",
      "|TOTPUBSEW|Total public sewe...|Australia|2017|          92.69|\n",
      "|TOTPUBSEW|Total public sewe...|Australia|2018|          92.64|\n",
      "|TOTPUBSEW|Total public sewe...|Australia|2019|        92.8561|\n",
      "|TOTPUBSEW|Total public sewe...|  Austria|2010|        93.8627|\n",
      "|TOTPUBSEW|Total public sewe...|  Austria|2012|           94.5|\n",
      "|TOTPUBSEW|Total public sewe...|  Austria|2014|        94.9676|\n",
      "|TOTPUBSEW|Total public sewe...|  Austria|2016|           95.2|\n",
      "|TOTPUBSEW|Total public sewe...|  Austria|2018|            100|\n",
      "|TOTPUBSEW|Total public sewe...|  Austria|2019|            100|\n",
      "|TOTPUBSEW|Total public sewe...|  Belgium|2010|           95.9|\n",
      "|TOTPUBSEW|Total public sewe...|  Belgium|2011|           97.1|\n",
      "|TOTPUBSEW|Total public sewe...|  Belgium|2012|         92.848|\n",
      "|TOTPUBSEW|Total public sewe...|  Belgium|2013|        93.9048|\n",
      "+---------+--------------------+---------+----+---------------+\n",
      "only showing top 20 rows\n",
      "\n"
     ]
    }
   ],
   "source": [
    "dataset = dataset.filter(dataset.PercentageValue >= 0)\n",
    "dataset.show()"
   ]
  },
  {
   "cell_type": "code",
   "execution_count": 11,
   "id": "032c13ad",
   "metadata": {},
   "outputs": [
    {
     "data": {
      "text/plain": [
       "2353"
      ]
     },
     "execution_count": 11,
     "metadata": {},
     "output_type": "execute_result"
    }
   ],
   "source": [
    "dataset.count()"
   ]
  },
  {
   "cell_type": "code",
   "execution_count": 12,
   "id": "1ce4f291",
   "metadata": {},
   "outputs": [
    {
     "name": "stdout",
     "output_type": "stream",
     "text": [
      "3.3 Data Construction\n"
     ]
    }
   ],
   "source": [
    "print(\"3.3 Data Construction\")"
   ]
  },
  {
   "cell_type": "code",
   "execution_count": 15,
   "id": "be1da117",
   "metadata": {},
   "outputs": [
    {
     "name": "stdout",
     "output_type": "stream",
     "text": [
      "root\n",
      " |-- Variable: string (nullable = true)\n",
      " |-- Country: string (nullable = true)\n",
      " |-- Year: string (nullable = true)\n",
      " |-- PercentageValue: string (nullable = true)\n",
      "\n"
     ]
    }
   ],
   "source": [
    "dataset = dataset.drop(dataset.VariableDescription)\n",
    "dataset.printSchema()"
   ]
  },
  {
   "cell_type": "code",
   "execution_count": 16,
   "id": "6297f283",
   "metadata": {},
   "outputs": [
    {
     "name": "stdout",
     "output_type": "stream",
     "text": [
      "3.4 Data Integration\n"
     ]
    }
   ],
   "source": [
    "print(\"3.4 Data Integration\")"
   ]
  },
  {
   "cell_type": "code",
   "execution_count": null,
   "id": "c18ab084",
   "metadata": {},
   "outputs": [],
   "source": []
  }
 ],
 "metadata": {
  "kernelspec": {
   "display_name": "Python 3 (ipykernel)",
   "language": "python",
   "name": "python3"
  },
  "language_info": {
   "codemirror_mode": {
    "name": "ipython",
    "version": 3
   },
   "file_extension": ".py",
   "mimetype": "text/x-python",
   "name": "python",
   "nbconvert_exporter": "python",
   "pygments_lexer": "ipython3",
   "version": "3.10.4"
  }
 },
 "nbformat": 4,
 "nbformat_minor": 5
}

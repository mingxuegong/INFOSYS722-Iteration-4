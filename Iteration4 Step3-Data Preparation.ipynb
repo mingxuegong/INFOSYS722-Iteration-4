{
 "cells": [
  {
   "cell_type": "code",
   "execution_count": 1,
   "id": "c140f651",
   "metadata": {},
   "outputs": [
    {
     "name": "stdout",
     "output_type": "stream",
     "text": [
      "3.1 Data Selection\n"
     ]
    }
   ],
   "source": [
    "print(\"3.1 Data Selection\")"
   ]
  },
  {
   "cell_type": "code",
   "execution_count": 2,
   "id": "277d6b45",
   "metadata": {},
   "outputs": [
    {
     "name": "stderr",
     "output_type": "stream",
     "text": [
      "WARNING: An illegal reflective access operation has occurred\n",
      "WARNING: Illegal reflective access by org.apache.spark.unsafe.Platform (file:/home/ubuntu/spark-3.2.1-bin-hadoop2.7/jars/spark-unsafe_2.12-3.2.1.jar) to constructor java.nio.DirectByteBuffer(long,int)\n",
      "WARNING: Please consider reporting this to the maintainers of org.apache.spark.unsafe.Platform\n",
      "WARNING: Use --illegal-access=warn to enable warnings of further illegal reflective access operations\n",
      "WARNING: All illegal access operations will be denied in a future release\n",
      "Using Spark's default log4j profile: org/apache/spark/log4j-defaults.properties\n",
      "Setting default log level to \"WARN\".\n",
      "To adjust logging level use sc.setLogLevel(newLevel). For SparkR, use setLogLevel(newLevel).\n",
      "22/10/11 06:53:08 WARN NativeCodeLoader: Unable to load native-hadoop library for your platform... using builtin-java classes where applicable\n"
     ]
    }
   ],
   "source": [
    "import findspark\n",
    "findspark.init('/home/ubuntu/spark-3.2.1-bin-hadoop2.7')\n",
    "import pyspark\n",
    "from pyspark.sql import SparkSession\n",
    "spark = SparkSession.builder.appName('infosys722_step2').getOrCreate()"
   ]
  },
  {
   "cell_type": "code",
   "execution_count": 3,
   "id": "cc033c85",
   "metadata": {},
   "outputs": [],
   "source": [
    "dataset = spark.read.load(\"./Waste Water Treatment.csv\", format=\"csv\", header=\"true\")"
   ]
  },
  {
   "cell_type": "code",
   "execution_count": 4,
   "id": "ec087ffd",
   "metadata": {},
   "outputs": [
    {
     "name": "stdout",
     "output_type": "stream",
     "text": [
      "+---------+--------------------+---------+----+---------------+\n",
      "| Variable| VariableDescription|  Country|Year|PercentageValue|\n",
      "+---------+--------------------+---------+----+---------------+\n",
      "|TOTPUBSEW|Total public sewe...|Australia|2010|          92.79|\n",
      "|TOTPUBSEW|Total public sewe...|Australia|2011|          93.84|\n",
      "|TOTPUBSEW|Total public sewe...|Australia|2012|           94.1|\n",
      "|TOTPUBSEW|Total public sewe...|Australia|2013|          94.08|\n",
      "|TOTPUBSEW|Total public sewe...|Australia|2014|          92.57|\n",
      "|TOTPUBSEW|Total public sewe...|Australia|2015|          92.38|\n",
      "|TOTPUBSEW|Total public sewe...|Australia|2016|          92.48|\n",
      "|TOTPUBSEW|Total public sewe...|Australia|2017|          92.69|\n",
      "|TOTPUBSEW|Total public sewe...|Australia|2018|          92.64|\n",
      "|TOTPUBSEW|Total public sewe...|Australia|2019|        92.8561|\n",
      "|TOTPUBSEW|Total public sewe...|  Austria|2010|        93.8627|\n",
      "|TOTPUBSEW|Total public sewe...|  Austria|2012|           94.5|\n",
      "|TOTPUBSEW|Total public sewe...|  Austria|2014|        94.9676|\n",
      "|TOTPUBSEW|Total public sewe...|  Austria|2016|           95.2|\n",
      "|TOTPUBSEW|Total public sewe...|  Austria|2018|            100|\n",
      "|TOTPUBSEW|Total public sewe...|  Austria|2019|            100|\n",
      "|TOTPUBSEW|Total public sewe...|  Belgium|2010|           95.9|\n",
      "|TOTPUBSEW|Total public sewe...|  Belgium|2011|           97.1|\n",
      "|TOTPUBSEW|Total public sewe...|  Belgium|2012|         92.848|\n",
      "|TOTPUBSEW|Total public sewe...|  Belgium|2013|        93.9048|\n",
      "+---------+--------------------+---------+----+---------------+\n",
      "only showing top 20 rows\n",
      "\n"
     ]
    }
   ],
   "source": [
    "dataset = dataset.filter(dataset.Year >= 2010)\n",
    "dataset.show()"
   ]
  },
  {
   "cell_type": "code",
   "execution_count": 5,
   "id": "f2862725",
   "metadata": {},
   "outputs": [
    {
     "data": {
      "text/plain": [
       "2353"
      ]
     },
     "execution_count": 5,
     "metadata": {},
     "output_type": "execute_result"
    }
   ],
   "source": [
    "dataset.count()"
   ]
  },
  {
   "cell_type": "code",
   "execution_count": 6,
   "id": "accc330a",
   "metadata": {},
   "outputs": [
    {
     "name": "stdout",
     "output_type": "stream",
     "text": [
      "3.2 Data Clean up\n"
     ]
    }
   ],
   "source": [
    "print(\"3.2 Data Clean up\")"
   ]
  },
  {
   "cell_type": "code",
   "execution_count": 7,
   "id": "29b3bed3",
   "metadata": {},
   "outputs": [
    {
     "name": "stdout",
     "output_type": "stream",
     "text": [
      "+--------+--------------------+---------+----+---------------+\n",
      "|Variable| VariableDescription|  Country|Year|PercentageValue|\n",
      "+--------+--------------------+---------+----+---------------+\n",
      "|   TOTTR|Total treatment (...|Australia|2019|            100|\n",
      "|   TOTTR|Total treatment (...|Australia|2018|            100|\n",
      "|   TOTTR|Total treatment (...|Australia|2017|            100|\n",
      "|   TOTTR|Total treatment (...|Australia|2016|            100|\n",
      "|   TOTTR|Total treatment (...|Australia|2015|            100|\n",
      "|   TOTTR|Total treatment (...|Australia|2014|            100|\n",
      "|   TOTTR|Total treatment (...|Australia|2013|            100|\n",
      "|   TOTTR|Total treatment (...|Australia|2012|            100|\n",
      "|   TOTTR|Total treatment (...|Australia|2011|            100|\n",
      "|   TOTTR|Total treatment (...|Australia|2010|            100|\n",
      "| OTHERTR|Unspecified (othe...|Australia|2018|         0.0008|\n",
      "| OTHERTR|Unspecified (othe...|Australia|2017|        -0.0047|\n",
      "| OTHERTR|Unspecified (othe...|Australia|2016|        -0.0022|\n",
      "| OTHERTR|Unspecified (othe...|Australia|2015|        -0.0028|\n",
      "| OTHERTR|Unspecified (othe...|Australia|2014|         0.0005|\n",
      "| OTHERTR|Unspecified (othe...|Australia|2013|        -0.0025|\n",
      "| OTHERTR|Unspecified (othe...|Australia|2012|         0.0028|\n",
      "| OTHERTR|Unspecified (othe...|Australia|2011|        -0.0025|\n",
      "| OTHERTR|Unspecified (othe...|Australia|2010|         0.0045|\n",
      "| PUBNOTR|Connected to a wa...|Australia|2019|              0|\n",
      "+--------+--------------------+---------+----+---------------+\n",
      "only showing top 20 rows\n",
      "\n"
     ]
    }
   ],
   "source": [
    "from pyspark.sql.functions import monotonically_increasing_id\n",
    "from pyspark.sql.functions import desc\n",
    " \n",
    "dataset_negativePer = dataset.withColumn(\"index\", monotonically_increasing_id())\n",
    "dataset_negativePer.orderBy(desc(\"index\")).drop(\"index\").show(20)"
   ]
  },
  {
   "cell_type": "code",
   "execution_count": 8,
   "id": "1a458212",
   "metadata": {},
   "outputs": [
    {
     "name": "stdout",
     "output_type": "stream",
     "text": [
      "+---------+--------------------+---------+----+---------------+\n",
      "| Variable| VariableDescription|  Country|Year|PercentageValue|\n",
      "+---------+--------------------+---------+----+---------------+\n",
      "|TOTPUBSEW|Total public sewe...|Australia|2010|          92.79|\n",
      "|TOTPUBSEW|Total public sewe...|Australia|2011|          93.84|\n",
      "|TOTPUBSEW|Total public sewe...|Australia|2012|           94.1|\n",
      "|TOTPUBSEW|Total public sewe...|Australia|2013|          94.08|\n",
      "|TOTPUBSEW|Total public sewe...|Australia|2014|          92.57|\n",
      "|TOTPUBSEW|Total public sewe...|Australia|2015|          92.38|\n",
      "|TOTPUBSEW|Total public sewe...|Australia|2016|          92.48|\n",
      "|TOTPUBSEW|Total public sewe...|Australia|2017|          92.69|\n",
      "|TOTPUBSEW|Total public sewe...|Australia|2018|          92.64|\n",
      "|TOTPUBSEW|Total public sewe...|Australia|2019|        92.8561|\n",
      "|TOTPUBSEW|Total public sewe...|  Austria|2010|        93.8627|\n",
      "|TOTPUBSEW|Total public sewe...|  Austria|2012|           94.5|\n",
      "|TOTPUBSEW|Total public sewe...|  Austria|2014|        94.9676|\n",
      "|TOTPUBSEW|Total public sewe...|  Austria|2016|           95.2|\n",
      "|TOTPUBSEW|Total public sewe...|  Austria|2018|            100|\n",
      "|TOTPUBSEW|Total public sewe...|  Austria|2019|            100|\n",
      "|TOTPUBSEW|Total public sewe...|  Belgium|2010|           95.9|\n",
      "|TOTPUBSEW|Total public sewe...|  Belgium|2011|           97.1|\n",
      "|TOTPUBSEW|Total public sewe...|  Belgium|2012|         92.848|\n",
      "|TOTPUBSEW|Total public sewe...|  Belgium|2013|        93.9048|\n",
      "+---------+--------------------+---------+----+---------------+\n",
      "only showing top 20 rows\n",
      "\n"
     ]
    }
   ],
   "source": [
    "dataset = dataset.filter(dataset.PercentageValue >= 0)\n",
    "dataset.show()"
   ]
  },
  {
   "cell_type": "code",
   "execution_count": 9,
   "id": "032c13ad",
   "metadata": {},
   "outputs": [
    {
     "data": {
      "text/plain": [
       "2353"
      ]
     },
     "execution_count": 9,
     "metadata": {},
     "output_type": "execute_result"
    }
   ],
   "source": [
    "dataset.count()"
   ]
  },
  {
   "cell_type": "code",
   "execution_count": 10,
   "id": "1ce4f291",
   "metadata": {},
   "outputs": [
    {
     "name": "stdout",
     "output_type": "stream",
     "text": [
      "3.3 Data Construction\n"
     ]
    }
   ],
   "source": [
    "print(\"3.3 Data Construction\")"
   ]
  },
  {
   "cell_type": "code",
   "execution_count": 11,
   "id": "be1da117",
   "metadata": {},
   "outputs": [
    {
     "name": "stdout",
     "output_type": "stream",
     "text": [
      "root\n",
      " |-- Variable: string (nullable = true)\n",
      " |-- Country: string (nullable = true)\n",
      " |-- Year: string (nullable = true)\n",
      " |-- PercentageValue: string (nullable = true)\n",
      "\n"
     ]
    }
   ],
   "source": [
    "dataset = dataset.drop(dataset.VariableDescription)\n",
    "dataset.printSchema()"
   ]
  },
  {
   "cell_type": "code",
   "execution_count": 12,
   "id": "6297f283",
   "metadata": {},
   "outputs": [
    {
     "name": "stdout",
     "output_type": "stream",
     "text": [
      "3.4 Data Integration\n"
     ]
    }
   ],
   "source": [
    "print(\"3.4 Data Integration\")"
   ]
  },
  {
   "cell_type": "code",
   "execution_count": 13,
   "id": "c18ab084",
   "metadata": {},
   "outputs": [
    {
     "name": "stderr",
     "output_type": "stream",
     "text": [
      "22/10/11 06:54:42 WARN package: Truncated the string representation of a plan since it was too large. This behavior can be adjusted by setting 'spark.sql.debug.maxToStringFields'.\n"
     ]
    },
    {
     "name": "stdout",
     "output_type": "stream",
     "text": [
      "+--------------+-----------------+------------------------------------+----------------------------+------------------------------+------------------------------+---------------------------------------+-----------------------------------------+-----------------------------------------+---------------------+-----------------------+-----------------------+-------------------+-------------------+-------------------+---------------+---------------+---------------+--------------------+--------------------+---------------------+------------------------------+-----------------------------+---------------------------+---------------------------+---------------------------+-----------------+-----------------+-----------------+----------------------+---------------------+-------------------+-------------------+-------------------+--------------------------+--------------------------+--------------------------+-----------------+---------------------------------+--------------------------------+------------------------------+------------------------------+------------------------------+----------------+---------------------------+--------------------------+------------------------+------------------------+------------------------+-------------------------------------------------+-------------------+------------------+----------------+----------------+----------------+-------------------------------------------+-------------------------------------------+-------------------------------------------+-------------+---------------+---------------+---------------+--------------------+--------------------+--------------------+\n",
      "|       Country|Air_pollution_MM3|Dwellings_without_basic_facilities_%|Educational_attainment_%_Men|Educational_attainment_%_Total|Educational_attainment_%_Wemen|Employees_working_very_long_hours_%_Men|Employees_working_very_long_hours_%_Total|Employees_working_very_long_hours_%_Wemen|Employment_rate_%_Men|Employment_rate_%_Total|Employment_rate_%_Wemen|safety_at_night_%_M|safety_at_night_%_T|safety_at_night_%_F|Homicide_rate_M|Homicide_rate_T|Homicide_rate_F|Household_net_income|Household_net_wealth|Housing _xpenditure_%|Labour_market_insecurity_High%|Labour_market_insecurity_Low%|Labour_market_insecurity_M%|Labour_market_insecurity_T%|Labour_market_insecurity_F%|Life_expectancy_M|Life_expectancy_T|Life_expectancy_F|Life_satisfaction_high|Life_satisfaction_low|Life_satisfaction_M|Life_satisfaction_T|Life_satisfaction_F|Long_unemployment_rate_%_M|Long_unemployment_rate_%_T|Long_unemployment_rate_%_F|Personal earnings|Quality of support network_High_%|Quality of support network_Low_%|Quality of support network_M_%|Quality of support network_T_%|Quality of support network_F_%|Rooms_per_person|Self_reported_health_High_%|Self_reported_health_Low_%|Self_reported_health_M_%|Self_reported_health_T_%|Self_reported_health_F_%|Stakeholder_engagement_for_developing _egulations|Student skills_high|Student skills_low|Student skills_M|Student skills_T|Student skills_F|Time_devoted_to _eisure_and_personal_care_M|Time_devoted_to _eisure_and_personal_care_T|Time_devoted_to _eisure_and_personal_care_F|Voter turnout|Water_quality_M|Water_quality_T|Water_quality_F|Years_in_education_M|Years_in_education_T|Years_in_education_F|\n",
      "+--------------+-----------------+------------------------------------+----------------------------+------------------------------+------------------------------+---------------------------------------+-----------------------------------------+-----------------------------------------+---------------------+-----------------------+-----------------------+-------------------+-------------------+-------------------+---------------+---------------+---------------+--------------------+--------------------+---------------------+------------------------------+-----------------------------+---------------------------+---------------------------+---------------------------+-----------------+-----------------+-----------------+----------------------+---------------------+-------------------+-------------------+-------------------+--------------------------+--------------------------+--------------------------+-----------------+---------------------------------+--------------------------------+------------------------------+------------------------------+------------------------------+----------------+---------------------------+--------------------------+------------------------+------------------------+------------------------+-------------------------------------------------+-------------------+------------------+----------------+----------------+----------------+-------------------------------------------+-------------------------------------------+-------------------------------------------+-------------+---------------+---------------+---------------+--------------------+--------------------+--------------------+\n",
      "|     Australia|                5|                                null|                          82|                            81|                            80|                                  19.17|                                    13.04|                                     6.31|                   78|                     73|                     68|               80.1|               63.5|               48.8|            1.5|            1.1|            0.7|               32759|              427064|                   20|                          2.29|                        11.02|                        5.9|                        5.4|                          5|             80.4|             82.5|             84.6|                   7.5|                 null|                7.2|                7.3|                7.4|                      1.38|                      1.31|                      1.23|            49126|                               96|                            null|                            96|                            95|                            94|            null|                         94|                      null|                      85|                      85|                      85|                                              2.7|                550|                 0|             498|             502|             506|                                      14.37|                                      14.35|                                      14.33|           91|             93|             93|             92|                20.8|                  21|                21.1|\n",
      "|       Austria|               16|                                 0.9|                          88|                            85|                            82|                                  10.01|                                     6.66|                                      3.1|                   76|                     72|                     68|               84.1|               80.6|               77.4|            0.4|            0.5|            0.5|               33541|              308325|                   21|                          2.67|                         7.31|                        4.2|                        3.5|                        2.7|             79.3|             81.7|             84.1|                   7.6|                 null|                7.1|                7.1|                7.1|                      1.99|                      1.84|                      1.66|            50349|                               92|                            null|                            92|                            92|                            92|             1.6|                         80|                        62|                      72|                      70|                      69|                                              1.3|                541|               447|             496|             492|             488|                                      14.72|                                      14.55|                                      14.32|           80|             93|             92|             91|                16.7|                  17|                17.3|\n",
      "|       Belgium|               15|                                 1.9|                          76|                            77|                            78|                                   6.81|                                     4.75|                                     2.55|                   68|                     63|                     59|               81.6|               70.1|               59.1|            1.2|              1|            0.9|               30364|              386006|                   21|                          2.19|                         6.97|                        4.7|                        3.7|                        2.7|               79|             81.5|               84|                   7.3|                 null|                6.9|                6.9|                6.9|                      3.71|                      3.54|                      3.35|            49675|                               95|                            null|                            92|                            91|                            90|             2.2|                         87|                        59|                      77|                      74|                      71|                                                2|                559|               452|             504|             503|             501|                                      15.78|                                       15.7|                                      15.51|           89|             86|             84|             81|                18.6|                19.3|                  20|\n",
      "|        Brazil|               10|                                 6.7|                          46|                            49|                            52|                                   9.15|                                     7.13|                                     4.74|                   71|                     61|                     51|               44.7|               35.6|               27.3|             50|           26.7|            4.3|                null|                null|                 null|                          null|                         null|                       null|                       null|                       null|               71|             74.8|             78.5|                  null|                 null|                6.2|                6.4|                6.6|                      null|                      null|                      null|             null|                             null|                              86|                            90|                            90|                            91|            null|                       null|                      null|                    null|                    null|                    null|                                              2.2|                445|               361|             394|             395|             396|                                       null|                                       null|                                       null|           79|             77|             73|             69|                15.8|                16.2|                16.5|\n",
      "|        Canada|                7|                                 0.2|                          90|                            91|                            93|                                   5.91|                                     3.69|                                     1.42|                   76|                     73|                     71|               92.2|               82.2|               73.1|            1.8|            1.3|            0.7|               30854|              423849|                   22|                          4.17|                        12.97|                        6.7|                          6|                        5.4|             79.8|             81.9|             83.9|                   7.6|                 null|                7.3|                7.4|                7.4|                      0.88|                      0.77|                      0.64|            47622|                               94|                            null|                            92|                            93|                            94|             2.6|                         94|                        80|                      89|                      88|                      88|                                              2.9|                558|               488|             521|             523|             526|                                      14.64|                                      14.56|                                      14.46|           68|             92|             91|             90|                16.9|                17.3|                17.8|\n",
      "|         Chile|               16|                                 9.4|                          65|                            65|                            65|                                  12.75|                                     9.72|                                     5.48|                   72|                     63|                     53|               52.6|               47.9|               43.5|            7.4|            4.2|              1|                null|              100967|                   18|                          6.64|                          8.2|                          7|                        8.7|                       10.3|             77.1|             79.9|             82.7|                   7.2|                  5.7|                6.5|                6.5|                6.5|                      null|                      null|                      null|            25879|                               93|                              76|                            85|                            85|                            84|             1.2|                         67|                        46|                      62|                      57|                      53|                                              1.3|                492|               399|             446|             443|             439|                                       null|                                       null|                                       null|           47|             72|             71|             70|                17.3|                17.5|                17.7|\n",
      "|      Colombia|               10|                                23.9|                          52|                            54|                            56|                                  32.09|                                    26.56|                                    19.37|                   79|                     67|                     55|               48.6|               44.4|               40.7|           46.4|           24.5|            4.1|                null|                null|                   17|                          null|                         null|                       null|                       null|                       null|             73.1|             76.2|             79.4|                  null|                 null|                6.2|                6.3|                6.3|                      0.51|                      0.79|                      1.16|             null|                             null|                            null|                            89|                            89|                            89|             1.2|                       null|                      null|                    null|                    null|                    null|                                              1.4|                456|               378|             411|             410|             409|                                       null|                                       null|                                       null|           53|             76|             75|             73|                13.8|                14.1|                14.4|\n",
      "|Czech Republic|               20|                                 0.7|                          95|                            94|                            92|                                   8.63|                                     5.65|                                     2.21|                   81|                     74|                     66|               82.7|               72.3|               62.6|            0.5|            0.5|            0.5|               21453|                null|                   24|                           1.5|                        25.14|                        2.8|                        3.1|                        3.5|             76.1|             79.1|             82.1|                  null|                 null|                6.7|                6.7|                6.7|                      0.85|                      1.04|                      1.28|            25372|                               95|                            null|                            90|                            91|                            91|             1.4|                         79|                        44|                      62|                      60|                      59|                                              1.6|                548|               440|             489|             491|             493|                                       null|                                       null|                                       null|           61|             87|             87|             86|                17.3|                17.9|                18.5|\n",
      "|       Denmark|                9|                                 0.5|                          79|                            81|                            83|                                   3.72|                                     2.34|                                     0.89|                   77|                     74|                     71|               92.3|               83.5|               74.9|            0.8|            0.6|            0.4|               29606|              118637|                   23|                          3.65|                         6.78|                        4.3|                        4.2|                        4.1|               79|             80.9|             82.8|                   7.9|                 null|                7.5|                7.6|                7.6|                      1.34|                      1.31|                      1.29|            51466|                               96|                            null|                            96|                            95|                            95|             1.9|                         84|                        66|                      72|                      71|                      70|                                                2|                543|               471|             503|             504|             505|                                      15.81|                                      15.87|                                      15.94|           86|             96|             95|             94|                19.1|                19.5|                19.9|\n",
      "|       Estonia|                8|                                   7|                          85|                            89|                            92|                                   3.72|                                     2.42|                                     1.17|                   77|                     74|                     71|               80.7|                 69|               59.2|            4.9|            3.1|            1.5|               19697|              159373|                   17|                          2.43|                         8.03|                        4.1|                        3.8|                        3.6|             73.3|             77.8|             82.2|                   6.3|                  5.4|                5.8|                5.7|                5.7|                      2.22|                      1.92|                      1.61|            24336|                               92|                              89|                            91|                            92|                            92|             1.6|                         79|                        33|                      56|                      53|                      51|                                              2.7|                562|               494|             521|             524|             528|                                      15.33|                                       14.9|                                      14.43|           64|             85|             84|             83|                17.1|                17.7|                18.3|\n",
      "|       Finland|                6|                                 0.5|                          85|                            88|                            91|                                   5.72|                                     3.81|                                     1.92|                   72|                     70|                     69|               94.5|               85.1|               76.2|            1.9|            1.3|            0.6|               29943|              200827|                   23|                          3.41|                         7.43|                        4.9|                        3.9|                        2.9|             78.6|             81.5|             84.4|                   8.2|                  7.2|                7.5|                7.6|                7.8|                      2.44|                      2.13|                       1.8|            42964|                               97|                              92|                            94|                            95|                            96|             1.9|                         83|                        57|                      72|                      70|                      69|                                              2.2|                562|               487|             511|             523|             535|                                      15.28|                                      15.17|                                      15.04|           67|             96|             95|             94|                19.4|                19.8|                20.3|\n",
      "|        France|               13|                                 0.5|                          79|                            78|                            78|                                  10.38|                                     7.67|                                     4.92|                   69|                     65|                     62|               76.1|               70.5|               65.5|            0.6|            0.5|            0.3|               31304|              280653|                   21|                          4.11|                        15.09|                        8.1|                        7.6|                          7|             79.2|             82.4|             85.5|                   7.3|                  5.9|                6.6|                6.5|                6.4|                       4.2|                         4|                      3.79|            43755|                               94|                              80|                            90|                            90|                            91|             1.8|                         72|                        61|                      68|                      66|                      65|                                              2.1|                558|               442|             492|             496|             499|                                      16.66|                                      16.36|                                      15.99|           75|             80|             81|             82|                16.2|                16.5|                16.8|\n",
      "|       Germany|               14|                                 0.2|                          88|                            87|                            85|                                   6.41|                                     4.26|                                     1.92|                   79|                     75|                     72|               77.9|               72.5|               67.4|            0.5|            0.5|            0.5|               34294|              259667|                   20|                          2.41|                        10.43|                        4.9|                        2.7|                        4.2|             78.6|             81.1|             83.5|                   7.4|                 null|                  7|                  7|                  7|                       1.8|                      1.57|                       1.3|            47585|                               92|                            null|                            90|                            90|                            90|             1.8|                         79|                        52|                      67|                      65|                      64|                                              1.8|                563|               468|             509|             508|             507|                                      15.65|                                      15.62|                                      15.57|           76|             91|             91|             92|                18.1|                18.1|                18.1|\n",
      "|        Greece|               18|                                 0.5|                          72|                            73|                            74|                                   8.31|                                     6.42|                                     4.11|                   63|                     53|                     44|               69.8|                 60|               50.8|            1.2|            0.8|            0.5|               17700|              150134|                   23|                         23.78|                        32.72|                       23.7|                       29.8|                         36|             78.9|             81.5|               84|                   6.2|                  4.4|                5.3|                5.4|                5.4|                     12.62|                     15.65|                     19.42|            26064|                               88|                              67|                            79|                            80|                            80|             1.2|                         82|                      null|                      77|                      74|                      71|                                              1.8|                506|               420|             451|             458|             466|                                       null|                                       null|                                       null|           64|             71|             69|             68|                19.2|                  19|                18.8|\n",
      "|       Hungary|               19|                                 4.7|                          86|                            84|                            82|                                   4.24|                                     3.03|                                     1.66|                   75|                     68|                     61|               65.6|               56.3|               48.2|            1.3|              1|            0.7|                null|              104458|                   19|                          1.62|                        10.66|                        4.7|                        4.7|                        4.6|             72.6|             76.2|             79.7|                   6.5|                  5.1|                5.6|                5.6|                5.6|                      1.59|                      1.72|                      1.87|            22576|                             null|                              85|                            84|                            86|                            87|             1.2|                         74|                        52|                      63|                      60|                      56|                                              1.2|                534|               418|             472|             474|             477|                                       null|                                       null|                                       null|           70|             77|             77|             77|                16.3|                16.4|                16.6|\n",
      "|       Iceland|                3|                                   0|                          77|                            77|                            77|                                  23.94|                                    15.06|                                      5.6|                   88|                     86|                     83|               95.1|                 86|               77.8|            0.6|            0.5|            0.4|                null|                null|                   24|                          0.59|                         0.62|                        0.7|                        0.7|                        0.7|             80.4|             82.3|             84.1|                     8|                  7.4|                7.4|                7.5|                7.6|                      0.24|                      0.26|                      0.27|            61787|                               99|                            null|                            97|                            98|                            98|             1.6|                         83|                        68|                      80|                      76|                      73|                                              2.1|                509|               453|             473|             481|             488|                                       null|                                       null|                                       null|           79|             99|             99|             98|                18.3|                  19|                19.8|\n",
      "|       Ireland|                7|                                   1|                          79|                            82|                            85|                                   8.25|                                     5.25|                                     2.28|                   73|                     67|                     62|               83.2|               75.9|               68.9|            1.1|            0.7|            0.2|               25310|              217130|                   20|                           4.1|                        16.32|                       10.5|                        7.8|                        5.2|             79.9|             81.8|             83.6|                   7.2|                 null|                  7|                  7|                  7|                      3.83|                      3.23|                      2.55|            47653|                               95|                            null|                            94|                            95|                            96|             2.1|                         93|                        72|                      83|                      83|                      83|                                              1.3|                550|               472|             511|             509|             507|                                       null|                                       null|                                       null|           65|             85|             85|             85|                18.1|                18.1|                18.1|\n",
      "|        Israel|               21|                                null|                          87|                            87|                            88|                                  23.29|                                    15.45|                                     7.08|                   72|                     69|                     66|                 78|               69.8|               62.1|              3|            1.8|            0.7|                null|                null|                 null|                          null|                         null|                       null|                        4.2|                       null|             80.7|             82.5|             84.2|                   7.4|                 null|                7.2|                7.2|                7.1|                      0.49|                      0.49|                      0.48|            35067|                               90|                            null|                            88|                            88|                            88|             1.2|                         96|                      null|                      85|                      84|                      82|                                              2.5|                514|               421|             470|             472|             473|                                       null|                                       null|                                       null|           72|             68|             67|             66|                15.2|                15.6|                16.1|\n",
      "|         Italy|               18|                                 0.7|                          59|                            61|                            63|                                   5.65|                                     4.11|                                     2.25|                   67|                     58|                     49|               64.8|               58.4|               52.6|            0.9|            0.6|            0.3|               26588|              279889|                   23|                          6.98|                        16.78|                       12.1|                       12.3|                       12.5|               81|             83.3|             85.6|                   6.9|                  5.7|                6.2|                  6|                5.9|                      6.17|                      6.59|                      7.16|            36658|                               94|                              90|                            92|                            92|                            91|             1.4|                         77|                        69|                      74|                      71|                      68|                                              2.5|                524|               445|             489|             485|             482|                                      16.95|                                      16.47|                                      15.52|           73|             73|             71|             69|                16.2|                16.6|                  17|\n",
      "|         Japan|               14|                                 6.4|                        null|                          null|                          null|                                   null|                                     null|                                     null|                   83|                     75|                     67|               81.1|               72.5|               64.8|            0.2|            0.2|            0.2|               29798|              305878|                   22|                          2.65|                         4.35|                        2.4|                        1.4|                        0.3|               81|             84.1|             87.1|                  null|                 null|                5.8|                5.9|                  6|                      1.38|                      1.03|                      0.58|            40863|                             null|                              88|                            85|                            89|                            93|             1.9|                         39|                        28|                      37|                      36|                      34|                                              1.4|                568|               489|             531|             529|             527|                                       null|                                       null|                                       null|           53|             88|             87|             86|                16.4|                16.4|                16.3|\n",
      "+--------------+-----------------+------------------------------------+----------------------------+------------------------------+------------------------------+---------------------------------------+-----------------------------------------+-----------------------------------------+---------------------+-----------------------+-----------------------+-------------------+-------------------+-------------------+---------------+---------------+---------------+--------------------+--------------------+---------------------+------------------------------+-----------------------------+---------------------------+---------------------------+---------------------------+-----------------+-----------------+-----------------+----------------------+---------------------+-------------------+-------------------+-------------------+--------------------------+--------------------------+--------------------------+-----------------+---------------------------------+--------------------------------+------------------------------+------------------------------+------------------------------+----------------+---------------------------+--------------------------+------------------------+------------------------+------------------------+-------------------------------------------------+-------------------+------------------+----------------+----------------+----------------+-------------------------------------------+-------------------------------------------+-------------------------------------------+-------------+---------------+---------------+---------------+--------------------+--------------------+--------------------+\n",
      "only showing top 20 rows\n",
      "\n"
     ]
    }
   ],
   "source": [
    "df1 = dataset\n",
    "df2 = spark.read.load(\"./statistic_oecd_life.csv\", format=\"csv\", header=\"true\")\n",
    "df2.show()"
   ]
  },
  {
   "cell_type": "code",
   "execution_count": 56,
   "id": "e34b5026",
   "metadata": {},
   "outputs": [
    {
     "name": "stdout",
     "output_type": "stream",
     "text": [
      "+---------+---------+----+---------------+-----------------+------------------------------------+----------------------------+------------------------------+------------------------------+---------------------------------------+-----------------------------------------+-----------------------------------------+---------------------+-----------------------+-----------------------+-------------------+-------------------+-------------------+---------------+---------------+---------------+--------------------+--------------------+---------------------+------------------------------+-----------------------------+---------------------------+---------------------------+---------------------------+-----------------+-----------------+-----------------+----------------------+---------------------+-------------------+-------------------+-------------------+--------------------------+--------------------------+--------------------------+-----------------+---------------------------------+--------------------------------+------------------------------+------------------------------+------------------------------+----------------+---------------------------+--------------------------+------------------------+------------------------+------------------------+-------------------------------------------------+-------------------+------------------+----------------+----------------+----------------+-------------------------------------------+-------------------------------------------+-------------------------------------------+-------------+---------------+---------------+---------------+--------------------+--------------------+--------------------+\n",
      "|  Country| Variable|Year|PercentageValue|Air_pollution_MM3|Dwellings_without_basic_facilities_%|Educational_attainment_%_Men|Educational_attainment_%_Total|Educational_attainment_%_Wemen|Employees_working_very_long_hours_%_Men|Employees_working_very_long_hours_%_Total|Employees_working_very_long_hours_%_Wemen|Employment_rate_%_Men|Employment_rate_%_Total|Employment_rate_%_Wemen|safety_at_night_%_M|safety_at_night_%_T|safety_at_night_%_F|Homicide_rate_M|Homicide_rate_T|Homicide_rate_F|Household_net_income|Household_net_wealth|Housing _xpenditure_%|Labour_market_insecurity_High%|Labour_market_insecurity_Low%|Labour_market_insecurity_M%|Labour_market_insecurity_T%|Labour_market_insecurity_F%|Life_expectancy_M|Life_expectancy_T|Life_expectancy_F|Life_satisfaction_high|Life_satisfaction_low|Life_satisfaction_M|Life_satisfaction_T|Life_satisfaction_F|Long_unemployment_rate_%_M|Long_unemployment_rate_%_T|Long_unemployment_rate_%_F|Personal earnings|Quality of support network_High_%|Quality of support network_Low_%|Quality of support network_M_%|Quality of support network_T_%|Quality of support network_F_%|Rooms_per_person|Self_reported_health_High_%|Self_reported_health_Low_%|Self_reported_health_M_%|Self_reported_health_T_%|Self_reported_health_F_%|Stakeholder_engagement_for_developing _egulations|Student skills_high|Student skills_low|Student skills_M|Student skills_T|Student skills_F|Time_devoted_to _eisure_and_personal_care_M|Time_devoted_to _eisure_and_personal_care_T|Time_devoted_to _eisure_and_personal_care_F|Voter turnout|Water_quality_M|Water_quality_T|Water_quality_F|Years_in_education_M|Years_in_education_T|Years_in_education_F|\n",
      "+---------+---------+----+---------------+-----------------+------------------------------------+----------------------------+------------------------------+------------------------------+---------------------------------------+-----------------------------------------+-----------------------------------------+---------------------+-----------------------+-----------------------+-------------------+-------------------+-------------------+---------------+---------------+---------------+--------------------+--------------------+---------------------+------------------------------+-----------------------------+---------------------------+---------------------------+---------------------------+-----------------+-----------------+-----------------+----------------------+---------------------+-------------------+-------------------+-------------------+--------------------------+--------------------------+--------------------------+-----------------+---------------------------------+--------------------------------+------------------------------+------------------------------+------------------------------+----------------+---------------------------+--------------------------+------------------------+------------------------+------------------------+-------------------------------------------------+-------------------+------------------+----------------+----------------+----------------+-------------------------------------------+-------------------------------------------+-------------------------------------------+-------------+---------------+---------------+---------------+--------------------+--------------------+--------------------+\n",
      "|Australia|TOTPUBSEW|2010|          92.79|                5|                                null|                          82|                            81|                            80|                                  19.17|                                    13.04|                                     6.31|                   78|                     73|                     68|               80.1|               63.5|               48.8|            1.5|            1.1|            0.7|               32759|              427064|                   20|                          2.29|                        11.02|                        5.9|                        5.4|                          5|             80.4|             82.5|             84.6|                   7.5|                 null|                7.2|                7.3|                7.4|                      1.38|                      1.31|                      1.23|            49126|                               96|                            null|                            96|                            95|                            94|            null|                         94|                      null|                      85|                      85|                      85|                                              2.7|                550|                 0|             498|             502|             506|                                      14.37|                                      14.35|                                      14.33|           91|             93|             93|             92|                20.8|                  21|                21.1|\n",
      "|Australia|TOTPUBSEW|2011|          93.84|                5|                                null|                          82|                            81|                            80|                                  19.17|                                    13.04|                                     6.31|                   78|                     73|                     68|               80.1|               63.5|               48.8|            1.5|            1.1|            0.7|               32759|              427064|                   20|                          2.29|                        11.02|                        5.9|                        5.4|                          5|             80.4|             82.5|             84.6|                   7.5|                 null|                7.2|                7.3|                7.4|                      1.38|                      1.31|                      1.23|            49126|                               96|                            null|                            96|                            95|                            94|            null|                         94|                      null|                      85|                      85|                      85|                                              2.7|                550|                 0|             498|             502|             506|                                      14.37|                                      14.35|                                      14.33|           91|             93|             93|             92|                20.8|                  21|                21.1|\n",
      "|Australia|TOTPUBSEW|2012|           94.1|                5|                                null|                          82|                            81|                            80|                                  19.17|                                    13.04|                                     6.31|                   78|                     73|                     68|               80.1|               63.5|               48.8|            1.5|            1.1|            0.7|               32759|              427064|                   20|                          2.29|                        11.02|                        5.9|                        5.4|                          5|             80.4|             82.5|             84.6|                   7.5|                 null|                7.2|                7.3|                7.4|                      1.38|                      1.31|                      1.23|            49126|                               96|                            null|                            96|                            95|                            94|            null|                         94|                      null|                      85|                      85|                      85|                                              2.7|                550|                 0|             498|             502|             506|                                      14.37|                                      14.35|                                      14.33|           91|             93|             93|             92|                20.8|                  21|                21.1|\n",
      "|Australia|TOTPUBSEW|2013|          94.08|                5|                                null|                          82|                            81|                            80|                                  19.17|                                    13.04|                                     6.31|                   78|                     73|                     68|               80.1|               63.5|               48.8|            1.5|            1.1|            0.7|               32759|              427064|                   20|                          2.29|                        11.02|                        5.9|                        5.4|                          5|             80.4|             82.5|             84.6|                   7.5|                 null|                7.2|                7.3|                7.4|                      1.38|                      1.31|                      1.23|            49126|                               96|                            null|                            96|                            95|                            94|            null|                         94|                      null|                      85|                      85|                      85|                                              2.7|                550|                 0|             498|             502|             506|                                      14.37|                                      14.35|                                      14.33|           91|             93|             93|             92|                20.8|                  21|                21.1|\n",
      "|Australia|TOTPUBSEW|2014|          92.57|                5|                                null|                          82|                            81|                            80|                                  19.17|                                    13.04|                                     6.31|                   78|                     73|                     68|               80.1|               63.5|               48.8|            1.5|            1.1|            0.7|               32759|              427064|                   20|                          2.29|                        11.02|                        5.9|                        5.4|                          5|             80.4|             82.5|             84.6|                   7.5|                 null|                7.2|                7.3|                7.4|                      1.38|                      1.31|                      1.23|            49126|                               96|                            null|                            96|                            95|                            94|            null|                         94|                      null|                      85|                      85|                      85|                                              2.7|                550|                 0|             498|             502|             506|                                      14.37|                                      14.35|                                      14.33|           91|             93|             93|             92|                20.8|                  21|                21.1|\n",
      "|Australia|TOTPUBSEW|2015|          92.38|                5|                                null|                          82|                            81|                            80|                                  19.17|                                    13.04|                                     6.31|                   78|                     73|                     68|               80.1|               63.5|               48.8|            1.5|            1.1|            0.7|               32759|              427064|                   20|                          2.29|                        11.02|                        5.9|                        5.4|                          5|             80.4|             82.5|             84.6|                   7.5|                 null|                7.2|                7.3|                7.4|                      1.38|                      1.31|                      1.23|            49126|                               96|                            null|                            96|                            95|                            94|            null|                         94|                      null|                      85|                      85|                      85|                                              2.7|                550|                 0|             498|             502|             506|                                      14.37|                                      14.35|                                      14.33|           91|             93|             93|             92|                20.8|                  21|                21.1|\n",
      "|Australia|TOTPUBSEW|2016|          92.48|                5|                                null|                          82|                            81|                            80|                                  19.17|                                    13.04|                                     6.31|                   78|                     73|                     68|               80.1|               63.5|               48.8|            1.5|            1.1|            0.7|               32759|              427064|                   20|                          2.29|                        11.02|                        5.9|                        5.4|                          5|             80.4|             82.5|             84.6|                   7.5|                 null|                7.2|                7.3|                7.4|                      1.38|                      1.31|                      1.23|            49126|                               96|                            null|                            96|                            95|                            94|            null|                         94|                      null|                      85|                      85|                      85|                                              2.7|                550|                 0|             498|             502|             506|                                      14.37|                                      14.35|                                      14.33|           91|             93|             93|             92|                20.8|                  21|                21.1|\n",
      "|Australia|TOTPUBSEW|2017|          92.69|                5|                                null|                          82|                            81|                            80|                                  19.17|                                    13.04|                                     6.31|                   78|                     73|                     68|               80.1|               63.5|               48.8|            1.5|            1.1|            0.7|               32759|              427064|                   20|                          2.29|                        11.02|                        5.9|                        5.4|                          5|             80.4|             82.5|             84.6|                   7.5|                 null|                7.2|                7.3|                7.4|                      1.38|                      1.31|                      1.23|            49126|                               96|                            null|                            96|                            95|                            94|            null|                         94|                      null|                      85|                      85|                      85|                                              2.7|                550|                 0|             498|             502|             506|                                      14.37|                                      14.35|                                      14.33|           91|             93|             93|             92|                20.8|                  21|                21.1|\n",
      "|Australia|TOTPUBSEW|2018|          92.64|                5|                                null|                          82|                            81|                            80|                                  19.17|                                    13.04|                                     6.31|                   78|                     73|                     68|               80.1|               63.5|               48.8|            1.5|            1.1|            0.7|               32759|              427064|                   20|                          2.29|                        11.02|                        5.9|                        5.4|                          5|             80.4|             82.5|             84.6|                   7.5|                 null|                7.2|                7.3|                7.4|                      1.38|                      1.31|                      1.23|            49126|                               96|                            null|                            96|                            95|                            94|            null|                         94|                      null|                      85|                      85|                      85|                                              2.7|                550|                 0|             498|             502|             506|                                      14.37|                                      14.35|                                      14.33|           91|             93|             93|             92|                20.8|                  21|                21.1|\n",
      "|Australia|TOTPUBSEW|2019|        92.8561|                5|                                null|                          82|                            81|                            80|                                  19.17|                                    13.04|                                     6.31|                   78|                     73|                     68|               80.1|               63.5|               48.8|            1.5|            1.1|            0.7|               32759|              427064|                   20|                          2.29|                        11.02|                        5.9|                        5.4|                          5|             80.4|             82.5|             84.6|                   7.5|                 null|                7.2|                7.3|                7.4|                      1.38|                      1.31|                      1.23|            49126|                               96|                            null|                            96|                            95|                            94|            null|                         94|                      null|                      85|                      85|                      85|                                              2.7|                550|                 0|             498|             502|             506|                                      14.37|                                      14.35|                                      14.33|           91|             93|             93|             92|                20.8|                  21|                21.1|\n",
      "|  Austria|TOTPUBSEW|2010|        93.8627|               16|                                 0.9|                          88|                            85|                            82|                                  10.01|                                     6.66|                                      3.1|                   76|                     72|                     68|               84.1|               80.6|               77.4|            0.4|            0.5|            0.5|               33541|              308325|                   21|                          2.67|                         7.31|                        4.2|                        3.5|                        2.7|             79.3|             81.7|             84.1|                   7.6|                 null|                7.1|                7.1|                7.1|                      1.99|                      1.84|                      1.66|            50349|                               92|                            null|                            92|                            92|                            92|             1.6|                         80|                        62|                      72|                      70|                      69|                                              1.3|                541|               447|             496|             492|             488|                                      14.72|                                      14.55|                                      14.32|           80|             93|             92|             91|                16.7|                  17|                17.3|\n",
      "|  Austria|TOTPUBSEW|2012|           94.5|               16|                                 0.9|                          88|                            85|                            82|                                  10.01|                                     6.66|                                      3.1|                   76|                     72|                     68|               84.1|               80.6|               77.4|            0.4|            0.5|            0.5|               33541|              308325|                   21|                          2.67|                         7.31|                        4.2|                        3.5|                        2.7|             79.3|             81.7|             84.1|                   7.6|                 null|                7.1|                7.1|                7.1|                      1.99|                      1.84|                      1.66|            50349|                               92|                            null|                            92|                            92|                            92|             1.6|                         80|                        62|                      72|                      70|                      69|                                              1.3|                541|               447|             496|             492|             488|                                      14.72|                                      14.55|                                      14.32|           80|             93|             92|             91|                16.7|                  17|                17.3|\n",
      "|  Austria|TOTPUBSEW|2014|        94.9676|               16|                                 0.9|                          88|                            85|                            82|                                  10.01|                                     6.66|                                      3.1|                   76|                     72|                     68|               84.1|               80.6|               77.4|            0.4|            0.5|            0.5|               33541|              308325|                   21|                          2.67|                         7.31|                        4.2|                        3.5|                        2.7|             79.3|             81.7|             84.1|                   7.6|                 null|                7.1|                7.1|                7.1|                      1.99|                      1.84|                      1.66|            50349|                               92|                            null|                            92|                            92|                            92|             1.6|                         80|                        62|                      72|                      70|                      69|                                              1.3|                541|               447|             496|             492|             488|                                      14.72|                                      14.55|                                      14.32|           80|             93|             92|             91|                16.7|                  17|                17.3|\n",
      "|  Austria|TOTPUBSEW|2016|           95.2|               16|                                 0.9|                          88|                            85|                            82|                                  10.01|                                     6.66|                                      3.1|                   76|                     72|                     68|               84.1|               80.6|               77.4|            0.4|            0.5|            0.5|               33541|              308325|                   21|                          2.67|                         7.31|                        4.2|                        3.5|                        2.7|             79.3|             81.7|             84.1|                   7.6|                 null|                7.1|                7.1|                7.1|                      1.99|                      1.84|                      1.66|            50349|                               92|                            null|                            92|                            92|                            92|             1.6|                         80|                        62|                      72|                      70|                      69|                                              1.3|                541|               447|             496|             492|             488|                                      14.72|                                      14.55|                                      14.32|           80|             93|             92|             91|                16.7|                  17|                17.3|\n",
      "|  Austria|TOTPUBSEW|2018|            100|               16|                                 0.9|                          88|                            85|                            82|                                  10.01|                                     6.66|                                      3.1|                   76|                     72|                     68|               84.1|               80.6|               77.4|            0.4|            0.5|            0.5|               33541|              308325|                   21|                          2.67|                         7.31|                        4.2|                        3.5|                        2.7|             79.3|             81.7|             84.1|                   7.6|                 null|                7.1|                7.1|                7.1|                      1.99|                      1.84|                      1.66|            50349|                               92|                            null|                            92|                            92|                            92|             1.6|                         80|                        62|                      72|                      70|                      69|                                              1.3|                541|               447|             496|             492|             488|                                      14.72|                                      14.55|                                      14.32|           80|             93|             92|             91|                16.7|                  17|                17.3|\n",
      "|  Austria|TOTPUBSEW|2019|            100|               16|                                 0.9|                          88|                            85|                            82|                                  10.01|                                     6.66|                                      3.1|                   76|                     72|                     68|               84.1|               80.6|               77.4|            0.4|            0.5|            0.5|               33541|              308325|                   21|                          2.67|                         7.31|                        4.2|                        3.5|                        2.7|             79.3|             81.7|             84.1|                   7.6|                 null|                7.1|                7.1|                7.1|                      1.99|                      1.84|                      1.66|            50349|                               92|                            null|                            92|                            92|                            92|             1.6|                         80|                        62|                      72|                      70|                      69|                                              1.3|                541|               447|             496|             492|             488|                                      14.72|                                      14.55|                                      14.32|           80|             93|             92|             91|                16.7|                  17|                17.3|\n",
      "|  Belgium|TOTPUBSEW|2010|           95.9|               15|                                 1.9|                          76|                            77|                            78|                                   6.81|                                     4.75|                                     2.55|                   68|                     63|                     59|               81.6|               70.1|               59.1|            1.2|              1|            0.9|               30364|              386006|                   21|                          2.19|                         6.97|                        4.7|                        3.7|                        2.7|               79|             81.5|               84|                   7.3|                 null|                6.9|                6.9|                6.9|                      3.71|                      3.54|                      3.35|            49675|                               95|                            null|                            92|                            91|                            90|             2.2|                         87|                        59|                      77|                      74|                      71|                                                2|                559|               452|             504|             503|             501|                                      15.78|                                       15.7|                                      15.51|           89|             86|             84|             81|                18.6|                19.3|                  20|\n",
      "|  Belgium|TOTPUBSEW|2011|           97.1|               15|                                 1.9|                          76|                            77|                            78|                                   6.81|                                     4.75|                                     2.55|                   68|                     63|                     59|               81.6|               70.1|               59.1|            1.2|              1|            0.9|               30364|              386006|                   21|                          2.19|                         6.97|                        4.7|                        3.7|                        2.7|               79|             81.5|               84|                   7.3|                 null|                6.9|                6.9|                6.9|                      3.71|                      3.54|                      3.35|            49675|                               95|                            null|                            92|                            91|                            90|             2.2|                         87|                        59|                      77|                      74|                      71|                                                2|                559|               452|             504|             503|             501|                                      15.78|                                       15.7|                                      15.51|           89|             86|             84|             81|                18.6|                19.3|                  20|\n",
      "|  Belgium|TOTPUBSEW|2012|         92.848|               15|                                 1.9|                          76|                            77|                            78|                                   6.81|                                     4.75|                                     2.55|                   68|                     63|                     59|               81.6|               70.1|               59.1|            1.2|              1|            0.9|               30364|              386006|                   21|                          2.19|                         6.97|                        4.7|                        3.7|                        2.7|               79|             81.5|               84|                   7.3|                 null|                6.9|                6.9|                6.9|                      3.71|                      3.54|                      3.35|            49675|                               95|                            null|                            92|                            91|                            90|             2.2|                         87|                        59|                      77|                      74|                      71|                                                2|                559|               452|             504|             503|             501|                                      15.78|                                       15.7|                                      15.51|           89|             86|             84|             81|                18.6|                19.3|                  20|\n",
      "|  Belgium|TOTPUBSEW|2013|        93.9048|               15|                                 1.9|                          76|                            77|                            78|                                   6.81|                                     4.75|                                     2.55|                   68|                     63|                     59|               81.6|               70.1|               59.1|            1.2|              1|            0.9|               30364|              386006|                   21|                          2.19|                         6.97|                        4.7|                        3.7|                        2.7|               79|             81.5|               84|                   7.3|                 null|                6.9|                6.9|                6.9|                      3.71|                      3.54|                      3.35|            49675|                               95|                            null|                            92|                            91|                            90|             2.2|                         87|                        59|                      77|                      74|                      71|                                                2|                559|               452|             504|             503|             501|                                      15.78|                                       15.7|                                      15.51|           89|             86|             84|             81|                18.6|                19.3|                  20|\n",
      "+---------+---------+----+---------------+-----------------+------------------------------------+----------------------------+------------------------------+------------------------------+---------------------------------------+-----------------------------------------+-----------------------------------------+---------------------+-----------------------+-----------------------+-------------------+-------------------+-------------------+---------------+---------------+---------------+--------------------+--------------------+---------------------+------------------------------+-----------------------------+---------------------------+---------------------------+---------------------------+-----------------+-----------------+-----------------+----------------------+---------------------+-------------------+-------------------+-------------------+--------------------------+--------------------------+--------------------------+-----------------+---------------------------------+--------------------------------+------------------------------+------------------------------+------------------------------+----------------+---------------------------+--------------------------+------------------------+------------------------+------------------------+-------------------------------------------------+-------------------+------------------+----------------+----------------+----------------+-------------------------------------------+-------------------------------------------+-------------------------------------------+-------------+---------------+---------------+---------------+--------------------+--------------------+--------------------+\n",
      "only showing top 20 rows\n",
      "\n"
     ]
    }
   ],
   "source": [
    "dataset = df1.join(df2, [\"Country\"])\n",
    "dataset.show()"
   ]
  },
  {
   "cell_type": "code",
   "execution_count": 57,
   "id": "dce08afd",
   "metadata": {},
   "outputs": [
    {
     "data": {
      "text/plain": [
       "['Country',\n",
       " 'Variable',\n",
       " 'Year',\n",
       " 'PercentageValue',\n",
       " 'Air_pollution_MM3',\n",
       " 'Dwellings_without_basic_facilities_%',\n",
       " 'Educational_attainment_%_Men',\n",
       " 'Educational_attainment_%_Total',\n",
       " 'Educational_attainment_%_Wemen',\n",
       " 'Employees_working_very_long_hours_%_Men',\n",
       " 'Employees_working_very_long_hours_%_Total',\n",
       " 'Employees_working_very_long_hours_%_Wemen',\n",
       " 'Employment_rate_%_Men',\n",
       " 'Employment_rate_%_Total',\n",
       " 'Employment_rate_%_Wemen',\n",
       " 'safety_at_night_%_M',\n",
       " 'safety_at_night_%_T',\n",
       " 'safety_at_night_%_F',\n",
       " 'Homicide_rate_M',\n",
       " 'Homicide_rate_T',\n",
       " 'Homicide_rate_F',\n",
       " 'Household_net_income',\n",
       " 'Household_net_wealth',\n",
       " 'Housing _xpenditure_%',\n",
       " 'Labour_market_insecurity_High%',\n",
       " 'Labour_market_insecurity_Low%',\n",
       " 'Labour_market_insecurity_M%',\n",
       " 'Labour_market_insecurity_T%',\n",
       " 'Labour_market_insecurity_F%',\n",
       " 'Life_expectancy_M',\n",
       " 'Life_expectancy_T',\n",
       " 'Life_expectancy_F',\n",
       " 'Life_satisfaction_high',\n",
       " 'Life_satisfaction_low',\n",
       " 'Life_satisfaction_M',\n",
       " 'Life_satisfaction_T',\n",
       " 'Life_satisfaction_F',\n",
       " 'Long_unemployment_rate_%_M',\n",
       " 'Long_unemployment_rate_%_T',\n",
       " 'Long_unemployment_rate_%_F',\n",
       " 'Personal earnings',\n",
       " 'Quality of support network_High_%',\n",
       " 'Quality of support network_Low_%',\n",
       " 'Quality of support network_M_%',\n",
       " 'Quality of support network_T_%',\n",
       " 'Quality of support network_F_%',\n",
       " 'Rooms_per_person',\n",
       " 'Self_reported_health_High_%',\n",
       " 'Self_reported_health_Low_%',\n",
       " 'Self_reported_health_M_%',\n",
       " 'Self_reported_health_T_%',\n",
       " 'Self_reported_health_F_%',\n",
       " 'Stakeholder_engagement_for_developing _egulations',\n",
       " 'Student skills_high',\n",
       " 'Student skills_low',\n",
       " 'Student skills_M',\n",
       " 'Student skills_T',\n",
       " 'Student skills_F',\n",
       " 'Time_devoted_to _eisure_and_personal_care_M',\n",
       " 'Time_devoted_to _eisure_and_personal_care_T',\n",
       " 'Time_devoted_to _eisure_and_personal_care_F',\n",
       " 'Voter turnout',\n",
       " 'Water_quality_M',\n",
       " 'Water_quality_T',\n",
       " 'Water_quality_F',\n",
       " 'Years_in_education_M',\n",
       " 'Years_in_education_T',\n",
       " 'Years_in_education_F']"
      ]
     },
     "execution_count": 57,
     "metadata": {},
     "output_type": "execute_result"
    }
   ],
   "source": [
    "dataset.columns"
   ]
  },
  {
   "cell_type": "code",
   "execution_count": 58,
   "id": "7bbed0d7",
   "metadata": {},
   "outputs": [
    {
     "name": "stdout",
     "output_type": "stream",
     "text": [
      "3.5 Data Reformation\n"
     ]
    }
   ],
   "source": [
    "print(\"3.5 Data Reformation\")"
   ]
  },
  {
   "cell_type": "code",
   "execution_count": 59,
   "id": "6cdd1728",
   "metadata": {},
   "outputs": [
    {
     "name": "stdout",
     "output_type": "stream",
     "text": [
      "+---------------+-------------------+\n",
      "|Water_quality_T|Life_satisfaction_T|\n",
      "+---------------+-------------------+\n",
      "|             93|                7.3|\n",
      "|             93|                7.3|\n",
      "|             93|                7.3|\n",
      "|             93|                7.3|\n",
      "|             93|                7.3|\n",
      "|             93|                7.3|\n",
      "|             93|                7.3|\n",
      "|             93|                7.3|\n",
      "|             93|                7.3|\n",
      "|             93|                7.3|\n",
      "|             92|                7.1|\n",
      "|             92|                7.1|\n",
      "|             92|                7.1|\n",
      "|             92|                7.1|\n",
      "|             92|                7.1|\n",
      "|             92|                7.1|\n",
      "|             84|                6.9|\n",
      "|             84|                6.9|\n",
      "|             84|                6.9|\n",
      "|             84|                6.9|\n",
      "+---------------+-------------------+\n",
      "only showing top 20 rows\n",
      "\n"
     ]
    }
   ],
   "source": [
    "twoColumns = dataset.select('Water_quality_T', 'Life_satisfaction_T')\n",
    "twoColumns.show()"
   ]
  },
  {
   "cell_type": "code",
   "execution_count": 60,
   "id": "b33c2c74",
   "metadata": {},
   "outputs": [
    {
     "name": "stdout",
     "output_type": "stream",
     "text": [
      "+---------------+-------------------+\n",
      "|Water_quality_T|Life_satisfaction_T|\n",
      "+---------------+-------------------+\n",
      "|satisfying     |7.3                |\n",
      "|satisfying     |7.3                |\n",
      "|satisfying     |7.3                |\n",
      "|satisfying     |7.3                |\n",
      "|satisfying     |7.3                |\n",
      "|satisfying     |7.3                |\n",
      "|satisfying     |7.3                |\n",
      "|satisfying     |7.3                |\n",
      "|satisfying     |7.3                |\n",
      "|satisfying     |7.3                |\n",
      "|satisfying     |7.1                |\n",
      "|satisfying     |7.1                |\n",
      "|satisfying     |7.1                |\n",
      "|satisfying     |7.1                |\n",
      "|satisfying     |7.1                |\n",
      "|satisfying     |7.1                |\n",
      "|satisfying     |6.9                |\n",
      "|satisfying     |6.9                |\n",
      "|satisfying     |6.9                |\n",
      "|satisfying     |6.9                |\n",
      "+---------------+-------------------+\n",
      "only showing top 20 rows\n",
      "\n"
     ]
    }
   ],
   "source": [
    "from pyspark.sql.functions import when\n",
    "twoColumns = twoColumns.withColumn('Water_quality_T', \n",
    "    when(twoColumns.Water_quality_T > 70, 'satisfying') \\\n",
    "   .when(twoColumns.Water_quality_T < 50,'unsatisfying') \\\n",
    "   .otherwise('maybe')) \n",
    "twoColumns.show(truncate=False)"
   ]
  },
  {
   "cell_type": "code",
   "execution_count": 61,
   "id": "5c4a2fc7",
   "metadata": {
    "scrolled": false
   },
   "outputs": [
    {
     "name": "stdout",
     "output_type": "stream",
     "text": [
      "+---------------+-------------------+\n",
      "|Water_quality_T|Life_satisfaction_T|\n",
      "+---------------+-------------------+\n",
      "|satisfying     |maybe              |\n",
      "|satisfying     |maybe              |\n",
      "|satisfying     |maybe              |\n",
      "|satisfying     |maybe              |\n",
      "|satisfying     |maybe              |\n",
      "|satisfying     |maybe              |\n",
      "|satisfying     |maybe              |\n",
      "|satisfying     |maybe              |\n",
      "|satisfying     |maybe              |\n",
      "|satisfying     |maybe              |\n",
      "|satisfying     |maybe              |\n",
      "|satisfying     |maybe              |\n",
      "|satisfying     |maybe              |\n",
      "|satisfying     |maybe              |\n",
      "|satisfying     |maybe              |\n",
      "|satisfying     |maybe              |\n",
      "|satisfying     |maybe              |\n",
      "|satisfying     |maybe              |\n",
      "|satisfying     |maybe              |\n",
      "|satisfying     |maybe              |\n",
      "+---------------+-------------------+\n",
      "only showing top 20 rows\n",
      "\n"
     ]
    }
   ],
   "source": [
    "twoColumns = twoColumns.withColumn('Life_satisfaction_T', \n",
    "    when(twoColumns.Life_satisfaction_T > 7, 'satisfying') \\\n",
    "   .when(twoColumns.Life_satisfaction_T < 5,'unsatisfying') \\\n",
    "   .otherwise('maybe'))\n",
    "\n",
    "twoColumns.show(truncate=False)"
   ]
  },
  {
   "cell_type": "code",
   "execution_count": 62,
   "id": "7812c81c",
   "metadata": {},
   "outputs": [
    {
     "name": "stdout",
     "output_type": "stream",
     "text": [
      "+---------+---------+----+---------------+-----------------+------------------------------------+----------------------------+------------------------------+------------------------------+---------------------------------------+-----------------------------------------+-----------------------------------------+---------------------+-----------------------+-----------------------+-------------------+-------------------+-------------------+---------------+---------------+---------------+--------------------+--------------------+---------------------+------------------------------+-----------------------------+---------------------------+---------------------------+---------------------------+-----------------+-----------------+-----------------+----------------------+---------------------+-------------------+-------------------+-------------------+--------------------------+--------------------------+--------------------------+-----------------+---------------------------------+--------------------------------+------------------------------+------------------------------+------------------------------+----------------+---------------------------+--------------------------+------------------------+------------------------+------------------------+-------------------------------------------------+-------------------+------------------+----------------+----------------+----------------+-------------------------------------------+-------------------------------------------+-------------------------------------------+-------------+---------------+---------------+---------------+--------------------+--------------------+--------------------+\n",
      "|Country  |Variable |Year|PercentageValue|Air_pollution_MM3|Dwellings_without_basic_facilities_%|Educational_attainment_%_Men|Educational_attainment_%_Total|Educational_attainment_%_Wemen|Employees_working_very_long_hours_%_Men|Employees_working_very_long_hours_%_Total|Employees_working_very_long_hours_%_Wemen|Employment_rate_%_Men|Employment_rate_%_Total|Employment_rate_%_Wemen|safety_at_night_%_M|safety_at_night_%_T|safety_at_night_%_F|Homicide_rate_M|Homicide_rate_T|Homicide_rate_F|Household_net_income|Household_net_wealth|Housing _xpenditure_%|Labour_market_insecurity_High%|Labour_market_insecurity_Low%|Labour_market_insecurity_M%|Labour_market_insecurity_T%|Labour_market_insecurity_F%|Life_expectancy_M|Life_expectancy_T|Life_expectancy_F|Life_satisfaction_high|Life_satisfaction_low|Life_satisfaction_M|Life_satisfaction_T|Life_satisfaction_F|Long_unemployment_rate_%_M|Long_unemployment_rate_%_T|Long_unemployment_rate_%_F|Personal earnings|Quality of support network_High_%|Quality of support network_Low_%|Quality of support network_M_%|Quality of support network_T_%|Quality of support network_F_%|Rooms_per_person|Self_reported_health_High_%|Self_reported_health_Low_%|Self_reported_health_M_%|Self_reported_health_T_%|Self_reported_health_F_%|Stakeholder_engagement_for_developing _egulations|Student skills_high|Student skills_low|Student skills_M|Student skills_T|Student skills_F|Time_devoted_to _eisure_and_personal_care_M|Time_devoted_to _eisure_and_personal_care_T|Time_devoted_to _eisure_and_personal_care_F|Voter turnout|Water_quality_M|Water_quality_T|Water_quality_F|Years_in_education_M|Years_in_education_T|Years_in_education_F|\n",
      "+---------+---------+----+---------------+-----------------+------------------------------------+----------------------------+------------------------------+------------------------------+---------------------------------------+-----------------------------------------+-----------------------------------------+---------------------+-----------------------+-----------------------+-------------------+-------------------+-------------------+---------------+---------------+---------------+--------------------+--------------------+---------------------+------------------------------+-----------------------------+---------------------------+---------------------------+---------------------------+-----------------+-----------------+-----------------+----------------------+---------------------+-------------------+-------------------+-------------------+--------------------------+--------------------------+--------------------------+-----------------+---------------------------------+--------------------------------+------------------------------+------------------------------+------------------------------+----------------+---------------------------+--------------------------+------------------------+------------------------+------------------------+-------------------------------------------------+-------------------+------------------+----------------+----------------+----------------+-------------------------------------------+-------------------------------------------+-------------------------------------------+-------------+---------------+---------------+---------------+--------------------+--------------------+--------------------+\n",
      "|Australia|TOTPUBSEW|2010|92.79          |5                |null                                |82                          |81                            |80                            |19.17                                  |13.04                                    |6.31                                     |78                   |73                     |68                     |80.1               |63.5               |48.8               |1.5            |1.1            |0.7            |32759               |427064              |20                   |2.29                          |11.02                        |5.9                        |5.4                        |5                          |80.4             |82.5             |84.6             |7.5                   |null                 |7.2                |maybe              |7.4                |1.38                      |1.31                      |1.23                      |49126            |96                               |null                            |96                            |95                            |94                            |null            |94                         |null                      |85                      |85                      |85                      |2.7                                              |550                |0                 |498             |502             |506             |14.37                                      |14.35                                      |14.33                                      |91           |93             |satisfying     |92             |20.8                |21                  |21.1                |\n",
      "|Australia|TOTPUBSEW|2011|93.84          |5                |null                                |82                          |81                            |80                            |19.17                                  |13.04                                    |6.31                                     |78                   |73                     |68                     |80.1               |63.5               |48.8               |1.5            |1.1            |0.7            |32759               |427064              |20                   |2.29                          |11.02                        |5.9                        |5.4                        |5                          |80.4             |82.5             |84.6             |7.5                   |null                 |7.2                |maybe              |7.4                |1.38                      |1.31                      |1.23                      |49126            |96                               |null                            |96                            |95                            |94                            |null            |94                         |null                      |85                      |85                      |85                      |2.7                                              |550                |0                 |498             |502             |506             |14.37                                      |14.35                                      |14.33                                      |91           |93             |satisfying     |92             |20.8                |21                  |21.1                |\n",
      "|Australia|TOTPUBSEW|2012|94.1           |5                |null                                |82                          |81                            |80                            |19.17                                  |13.04                                    |6.31                                     |78                   |73                     |68                     |80.1               |63.5               |48.8               |1.5            |1.1            |0.7            |32759               |427064              |20                   |2.29                          |11.02                        |5.9                        |5.4                        |5                          |80.4             |82.5             |84.6             |7.5                   |null                 |7.2                |maybe              |7.4                |1.38                      |1.31                      |1.23                      |49126            |96                               |null                            |96                            |95                            |94                            |null            |94                         |null                      |85                      |85                      |85                      |2.7                                              |550                |0                 |498             |502             |506             |14.37                                      |14.35                                      |14.33                                      |91           |93             |satisfying     |92             |20.8                |21                  |21.1                |\n",
      "|Australia|TOTPUBSEW|2013|94.08          |5                |null                                |82                          |81                            |80                            |19.17                                  |13.04                                    |6.31                                     |78                   |73                     |68                     |80.1               |63.5               |48.8               |1.5            |1.1            |0.7            |32759               |427064              |20                   |2.29                          |11.02                        |5.9                        |5.4                        |5                          |80.4             |82.5             |84.6             |7.5                   |null                 |7.2                |maybe              |7.4                |1.38                      |1.31                      |1.23                      |49126            |96                               |null                            |96                            |95                            |94                            |null            |94                         |null                      |85                      |85                      |85                      |2.7                                              |550                |0                 |498             |502             |506             |14.37                                      |14.35                                      |14.33                                      |91           |93             |satisfying     |92             |20.8                |21                  |21.1                |\n",
      "|Australia|TOTPUBSEW|2014|92.57          |5                |null                                |82                          |81                            |80                            |19.17                                  |13.04                                    |6.31                                     |78                   |73                     |68                     |80.1               |63.5               |48.8               |1.5            |1.1            |0.7            |32759               |427064              |20                   |2.29                          |11.02                        |5.9                        |5.4                        |5                          |80.4             |82.5             |84.6             |7.5                   |null                 |7.2                |maybe              |7.4                |1.38                      |1.31                      |1.23                      |49126            |96                               |null                            |96                            |95                            |94                            |null            |94                         |null                      |85                      |85                      |85                      |2.7                                              |550                |0                 |498             |502             |506             |14.37                                      |14.35                                      |14.33                                      |91           |93             |satisfying     |92             |20.8                |21                  |21.1                |\n",
      "|Australia|TOTPUBSEW|2015|92.38          |5                |null                                |82                          |81                            |80                            |19.17                                  |13.04                                    |6.31                                     |78                   |73                     |68                     |80.1               |63.5               |48.8               |1.5            |1.1            |0.7            |32759               |427064              |20                   |2.29                          |11.02                        |5.9                        |5.4                        |5                          |80.4             |82.5             |84.6             |7.5                   |null                 |7.2                |maybe              |7.4                |1.38                      |1.31                      |1.23                      |49126            |96                               |null                            |96                            |95                            |94                            |null            |94                         |null                      |85                      |85                      |85                      |2.7                                              |550                |0                 |498             |502             |506             |14.37                                      |14.35                                      |14.33                                      |91           |93             |satisfying     |92             |20.8                |21                  |21.1                |\n",
      "|Australia|TOTPUBSEW|2016|92.48          |5                |null                                |82                          |81                            |80                            |19.17                                  |13.04                                    |6.31                                     |78                   |73                     |68                     |80.1               |63.5               |48.8               |1.5            |1.1            |0.7            |32759               |427064              |20                   |2.29                          |11.02                        |5.9                        |5.4                        |5                          |80.4             |82.5             |84.6             |7.5                   |null                 |7.2                |maybe              |7.4                |1.38                      |1.31                      |1.23                      |49126            |96                               |null                            |96                            |95                            |94                            |null            |94                         |null                      |85                      |85                      |85                      |2.7                                              |550                |0                 |498             |502             |506             |14.37                                      |14.35                                      |14.33                                      |91           |93             |satisfying     |92             |20.8                |21                  |21.1                |\n",
      "|Australia|TOTPUBSEW|2017|92.69          |5                |null                                |82                          |81                            |80                            |19.17                                  |13.04                                    |6.31                                     |78                   |73                     |68                     |80.1               |63.5               |48.8               |1.5            |1.1            |0.7            |32759               |427064              |20                   |2.29                          |11.02                        |5.9                        |5.4                        |5                          |80.4             |82.5             |84.6             |7.5                   |null                 |7.2                |maybe              |7.4                |1.38                      |1.31                      |1.23                      |49126            |96                               |null                            |96                            |95                            |94                            |null            |94                         |null                      |85                      |85                      |85                      |2.7                                              |550                |0                 |498             |502             |506             |14.37                                      |14.35                                      |14.33                                      |91           |93             |satisfying     |92             |20.8                |21                  |21.1                |\n",
      "|Australia|TOTPUBSEW|2018|92.64          |5                |null                                |82                          |81                            |80                            |19.17                                  |13.04                                    |6.31                                     |78                   |73                     |68                     |80.1               |63.5               |48.8               |1.5            |1.1            |0.7            |32759               |427064              |20                   |2.29                          |11.02                        |5.9                        |5.4                        |5                          |80.4             |82.5             |84.6             |7.5                   |null                 |7.2                |maybe              |7.4                |1.38                      |1.31                      |1.23                      |49126            |96                               |null                            |96                            |95                            |94                            |null            |94                         |null                      |85                      |85                      |85                      |2.7                                              |550                |0                 |498             |502             |506             |14.37                                      |14.35                                      |14.33                                      |91           |93             |satisfying     |92             |20.8                |21                  |21.1                |\n",
      "|Australia|TOTPUBSEW|2019|92.8561        |5                |null                                |82                          |81                            |80                            |19.17                                  |13.04                                    |6.31                                     |78                   |73                     |68                     |80.1               |63.5               |48.8               |1.5            |1.1            |0.7            |32759               |427064              |20                   |2.29                          |11.02                        |5.9                        |5.4                        |5                          |80.4             |82.5             |84.6             |7.5                   |null                 |7.2                |maybe              |7.4                |1.38                      |1.31                      |1.23                      |49126            |96                               |null                            |96                            |95                            |94                            |null            |94                         |null                      |85                      |85                      |85                      |2.7                                              |550                |0                 |498             |502             |506             |14.37                                      |14.35                                      |14.33                                      |91           |93             |satisfying     |92             |20.8                |21                  |21.1                |\n",
      "|Austria  |TOTPUBSEW|2010|93.8627        |16               |0.9                                 |88                          |85                            |82                            |10.01                                  |6.66                                     |3.1                                      |76                   |72                     |68                     |84.1               |80.6               |77.4               |0.4            |0.5            |0.5            |33541               |308325              |21                   |2.67                          |7.31                         |4.2                        |3.5                        |2.7                        |79.3             |81.7             |84.1             |7.6                   |null                 |7.1                |maybe              |7.1                |1.99                      |1.84                      |1.66                      |50349            |92                               |null                            |92                            |92                            |92                            |1.6             |80                         |62                        |72                      |70                      |69                      |1.3                                              |541                |447               |496             |492             |488             |14.72                                      |14.55                                      |14.32                                      |80           |93             |satisfying     |91             |16.7                |17                  |17.3                |\n",
      "|Austria  |TOTPUBSEW|2012|94.5           |16               |0.9                                 |88                          |85                            |82                            |10.01                                  |6.66                                     |3.1                                      |76                   |72                     |68                     |84.1               |80.6               |77.4               |0.4            |0.5            |0.5            |33541               |308325              |21                   |2.67                          |7.31                         |4.2                        |3.5                        |2.7                        |79.3             |81.7             |84.1             |7.6                   |null                 |7.1                |maybe              |7.1                |1.99                      |1.84                      |1.66                      |50349            |92                               |null                            |92                            |92                            |92                            |1.6             |80                         |62                        |72                      |70                      |69                      |1.3                                              |541                |447               |496             |492             |488             |14.72                                      |14.55                                      |14.32                                      |80           |93             |satisfying     |91             |16.7                |17                  |17.3                |\n",
      "|Austria  |TOTPUBSEW|2014|94.9676        |16               |0.9                                 |88                          |85                            |82                            |10.01                                  |6.66                                     |3.1                                      |76                   |72                     |68                     |84.1               |80.6               |77.4               |0.4            |0.5            |0.5            |33541               |308325              |21                   |2.67                          |7.31                         |4.2                        |3.5                        |2.7                        |79.3             |81.7             |84.1             |7.6                   |null                 |7.1                |maybe              |7.1                |1.99                      |1.84                      |1.66                      |50349            |92                               |null                            |92                            |92                            |92                            |1.6             |80                         |62                        |72                      |70                      |69                      |1.3                                              |541                |447               |496             |492             |488             |14.72                                      |14.55                                      |14.32                                      |80           |93             |satisfying     |91             |16.7                |17                  |17.3                |\n",
      "|Austria  |TOTPUBSEW|2016|95.2           |16               |0.9                                 |88                          |85                            |82                            |10.01                                  |6.66                                     |3.1                                      |76                   |72                     |68                     |84.1               |80.6               |77.4               |0.4            |0.5            |0.5            |33541               |308325              |21                   |2.67                          |7.31                         |4.2                        |3.5                        |2.7                        |79.3             |81.7             |84.1             |7.6                   |null                 |7.1                |maybe              |7.1                |1.99                      |1.84                      |1.66                      |50349            |92                               |null                            |92                            |92                            |92                            |1.6             |80                         |62                        |72                      |70                      |69                      |1.3                                              |541                |447               |496             |492             |488             |14.72                                      |14.55                                      |14.32                                      |80           |93             |satisfying     |91             |16.7                |17                  |17.3                |\n",
      "|Austria  |TOTPUBSEW|2018|100            |16               |0.9                                 |88                          |85                            |82                            |10.01                                  |6.66                                     |3.1                                      |76                   |72                     |68                     |84.1               |80.6               |77.4               |0.4            |0.5            |0.5            |33541               |308325              |21                   |2.67                          |7.31                         |4.2                        |3.5                        |2.7                        |79.3             |81.7             |84.1             |7.6                   |null                 |7.1                |maybe              |7.1                |1.99                      |1.84                      |1.66                      |50349            |92                               |null                            |92                            |92                            |92                            |1.6             |80                         |62                        |72                      |70                      |69                      |1.3                                              |541                |447               |496             |492             |488             |14.72                                      |14.55                                      |14.32                                      |80           |93             |satisfying     |91             |16.7                |17                  |17.3                |\n",
      "|Austria  |TOTPUBSEW|2019|100            |16               |0.9                                 |88                          |85                            |82                            |10.01                                  |6.66                                     |3.1                                      |76                   |72                     |68                     |84.1               |80.6               |77.4               |0.4            |0.5            |0.5            |33541               |308325              |21                   |2.67                          |7.31                         |4.2                        |3.5                        |2.7                        |79.3             |81.7             |84.1             |7.6                   |null                 |7.1                |maybe              |7.1                |1.99                      |1.84                      |1.66                      |50349            |92                               |null                            |92                            |92                            |92                            |1.6             |80                         |62                        |72                      |70                      |69                      |1.3                                              |541                |447               |496             |492             |488             |14.72                                      |14.55                                      |14.32                                      |80           |93             |satisfying     |91             |16.7                |17                  |17.3                |\n",
      "|Belgium  |TOTPUBSEW|2010|95.9           |15               |1.9                                 |76                          |77                            |78                            |6.81                                   |4.75                                     |2.55                                     |68                   |63                     |59                     |81.6               |70.1               |59.1               |1.2            |1              |0.9            |30364               |386006              |21                   |2.19                          |6.97                         |4.7                        |3.7                        |2.7                        |79               |81.5             |84               |7.3                   |null                 |6.9                |maybe              |6.9                |3.71                      |3.54                      |3.35                      |49675            |95                               |null                            |92                            |91                            |90                            |2.2             |87                         |59                        |77                      |74                      |71                      |2                                                |559                |452               |504             |503             |501             |15.78                                      |15.7                                       |15.51                                      |89           |86             |satisfying     |81             |18.6                |19.3                |20                  |\n",
      "|Belgium  |TOTPUBSEW|2011|97.1           |15               |1.9                                 |76                          |77                            |78                            |6.81                                   |4.75                                     |2.55                                     |68                   |63                     |59                     |81.6               |70.1               |59.1               |1.2            |1              |0.9            |30364               |386006              |21                   |2.19                          |6.97                         |4.7                        |3.7                        |2.7                        |79               |81.5             |84               |7.3                   |null                 |6.9                |maybe              |6.9                |3.71                      |3.54                      |3.35                      |49675            |95                               |null                            |92                            |91                            |90                            |2.2             |87                         |59                        |77                      |74                      |71                      |2                                                |559                |452               |504             |503             |501             |15.78                                      |15.7                                       |15.51                                      |89           |86             |satisfying     |81             |18.6                |19.3                |20                  |\n",
      "|Belgium  |TOTPUBSEW|2012|92.848         |15               |1.9                                 |76                          |77                            |78                            |6.81                                   |4.75                                     |2.55                                     |68                   |63                     |59                     |81.6               |70.1               |59.1               |1.2            |1              |0.9            |30364               |386006              |21                   |2.19                          |6.97                         |4.7                        |3.7                        |2.7                        |79               |81.5             |84               |7.3                   |null                 |6.9                |maybe              |6.9                |3.71                      |3.54                      |3.35                      |49675            |95                               |null                            |92                            |91                            |90                            |2.2             |87                         |59                        |77                      |74                      |71                      |2                                                |559                |452               |504             |503             |501             |15.78                                      |15.7                                       |15.51                                      |89           |86             |satisfying     |81             |18.6                |19.3                |20                  |\n",
      "|Belgium  |TOTPUBSEW|2013|93.9048        |15               |1.9                                 |76                          |77                            |78                            |6.81                                   |4.75                                     |2.55                                     |68                   |63                     |59                     |81.6               |70.1               |59.1               |1.2            |1              |0.9            |30364               |386006              |21                   |2.19                          |6.97                         |4.7                        |3.7                        |2.7                        |79               |81.5             |84               |7.3                   |null                 |6.9                |maybe              |6.9                |3.71                      |3.54                      |3.35                      |49675            |95                               |null                            |92                            |91                            |90                            |2.2             |87                         |59                        |77                      |74                      |71                      |2                                                |559                |452               |504             |503             |501             |15.78                                      |15.7                                       |15.51                                      |89           |86             |satisfying     |81             |18.6                |19.3                |20                  |\n",
      "+---------+---------+----+---------------+-----------------+------------------------------------+----------------------------+------------------------------+------------------------------+---------------------------------------+-----------------------------------------+-----------------------------------------+---------------------+-----------------------+-----------------------+-------------------+-------------------+-------------------+---------------+---------------+---------------+--------------------+--------------------+---------------------+------------------------------+-----------------------------+---------------------------+---------------------------+---------------------------+-----------------+-----------------+-----------------+----------------------+---------------------+-------------------+-------------------+-------------------+--------------------------+--------------------------+--------------------------+-----------------+---------------------------------+--------------------------------+------------------------------+------------------------------+------------------------------+----------------+---------------------------+--------------------------+------------------------+------------------------+------------------------+-------------------------------------------------+-------------------+------------------+----------------+----------------+----------------+-------------------------------------------+-------------------------------------------+-------------------------------------------+-------------+---------------+---------------+---------------+--------------------+--------------------+--------------------+\n",
      "only showing top 20 rows\n",
      "\n"
     ]
    }
   ],
   "source": [
    "dataset = dataset.withColumn('Water_quality_T', \n",
    "    when(dataset.Water_quality_T > 70, 'satisfying') \\\n",
    "   .when(dataset.Water_quality_T < 50,'unsatisfying') \\\n",
    "   .otherwise('maybe')) \n",
    "\n",
    "dataset = dataset.withColumn('Life_satisfaction_T', \n",
    "    when(dataset.Life_satisfaction_T > 7, 'satisfying') \\\n",
    "   .when(dataset.Life_satisfaction_T < 5,'unsatisfying') \\\n",
    "   .otherwise('maybe'))\n",
    "\n",
    "dataset.show(truncate=False)"
   ]
  },
  {
   "cell_type": "code",
   "execution_count": 68,
   "id": "fd3aabee",
   "metadata": {},
   "outputs": [],
   "source": [
    "dataset.write.option(\"header\",True).csv('Waste Water Treatment - Reformatted.csv')"
   ]
  },
  {
   "cell_type": "code",
   "execution_count": null,
   "id": "bfeb6b76",
   "metadata": {},
   "outputs": [],
   "source": []
  }
 ],
 "metadata": {
  "kernelspec": {
   "display_name": "Python 3 (ipykernel)",
   "language": "python",
   "name": "python3"
  },
  "language_info": {
   "codemirror_mode": {
    "name": "ipython",
    "version": 3
   },
   "file_extension": ".py",
   "mimetype": "text/x-python",
   "name": "python",
   "nbconvert_exporter": "python",
   "pygments_lexer": "ipython3",
   "version": "3.10.4"
  }
 },
 "nbformat": 4,
 "nbformat_minor": 5
}
